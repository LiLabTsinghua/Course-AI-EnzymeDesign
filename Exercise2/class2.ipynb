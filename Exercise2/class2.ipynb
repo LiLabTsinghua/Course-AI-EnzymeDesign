{
 "cells": [
  {
   "cell_type": "markdown",
   "id": "c293b50d469b8bb8",
   "metadata": {
    "collapsed": false
   },
   "source": [
    "### Python libraries \n",
    "Please activate the Conda environment you created in the terminal command line, and then execute the following commands **line by line** (the first command changes the default pip source to the Tsinghua mirror, which is recommended):\n",
    "```\n",
    "conda create -n class2_env python=3.8\n",
    "conda activate class2_env\n",
    "pip config set global.index-url https://pypi.tuna.tsinghua.edu.cn/simple\n",
    "pip install numpy\n",
    "pip install rdkit\n",
    "pip install ipykernel\n",
    "pip install fair-esm\n",
    "pip install matplotlib\n",
    "pip install transformers\n",
    "pip install scikit-learn\n",
    "pip install pandas\n",
    "pip install tqdm\n",
    "pip install biopython\n",
    "pip install torch==2.3.1 torchvision==0.18.1 torchaudio==2.3.1 -f https://mirrors.aliyun.com/pytorch-wheels/cu118\n",
    "pip install xgboost\n",
    "pip install hyperopt\n",
    "```"
   ]
  },
  {
   "cell_type": "markdown",
   "id": "48cdbbe73b678058",
   "metadata": {
    "collapsed": false
   },
   "source": [
    "## Small Molecule Substrates of Enzymes\n",
    "### Prediction of enzyme-substrate pairs (ESP)\n",
    "\n",
    "## The exercise today is mainly about how to train an enzyme-substrate pair prediction model and analysis, which includes:\n",
    "\n",
    "1. Data preprocessing including knowledge review of substrate and protein/enzyme embedding generation\n",
    "2. Load and clean the data of enzyme-substrate pair\n",
    "3. Train a machine learning model for enzyme-substrate pair prediction model\n",
    "4. Predict the substrate for given sequences\n",
    "\n"
   ]
  },
  {
   "cell_type": "markdown",
   "id": "37de3511ef988b09",
   "metadata": {
    "collapsed": false
   },
   "source": [
    "## 1. Data Preprocessing and Cleaning"
   ]
  },
  {
   "cell_type": "markdown",
   "id": "4feeae4ac741460a",
   "metadata": {
    "collapsed": false
   },
   "source": [
    "### 1.1 Substrate Feature Extraction (Knowledge review)<a id=\"compound-feature-extraction-methods\"></a>"
   ]
  },
  {
   "cell_type": "code",
   "execution_count": 1,
   "id": "initial_id",
   "metadata": {
    "collapsed": true,
    "ExecuteTime": {
     "end_time": "2024-11-12T05:54:10.898517400Z",
     "start_time": "2024-11-12T05:54:10.610615900Z"
    }
   },
   "outputs": [
    {
     "data": {
      "text/plain": "<PIL.PngImagePlugin.PngImageFile image mode=RGB size=300x300>",
      "image/png": "[encoded data removed]",
      "image/jpeg": "[encoded data removed]"
     },
     "execution_count": 1,
     "metadata": {},
     "output_type": "execute_result"
    }
   ],
   "source": [
    "# Import necessary libraries from RDKit\n",
    "from rdkit import Chem\n",
    "from rdkit.Chem import Draw\n",
    "# smiles of a molecule\n",
    "\n",
    "smiles = 'C(=CC(=O)O)C=C(C(=O)[O-])[O-]'  # SMILES for 2-Hydroxymuconate\n",
    "\n",
    "# smiles to molecule\n",
    "mol = Chem.MolFromSmiles(smiles)\n",
    "\n",
    "# visualize molecule\n",
    "Draw.MolToImage(mol)"
   ]
  },
  {
   "cell_type": "markdown",
   "id": "1830c6fecf06dbc2",
   "metadata": {
    "collapsed": false
   },
   "source": [
    "### 1.1.1 Molecular Fingerprints (Knowledge review)\n",
    "- **Definition**: A molecular fingerprint is a method of converting the structure of a molecule into a fixed-length binary vector. This vector represents the presence or absence of specific substructures or features within the molecule.\n",
    "- **Example**:\n",
    "  - **Morgan Fingerprint (ECFP)**: Extended-Connectivity Fingerprints are a type of circular fingerprint that captures the local environment of each atom in a molecule. For instance, an ECFP4 fingerprint with a radius of 2 and a bit vector length of 1024 bits can be generated using RDKit.\n",
    "  - **MACCS Keys**: MACCS (Molecular ACCess System) keys are another type of molecular fingerprint that uses a predefined set of 166 structural keys.\n",
    "  - **RDKit Example Code**:"
   ]
  },
  {
   "cell_type": "code",
   "execution_count": 2,
   "id": "e37905e36e38333",
   "metadata": {
    "collapsed": false,
    "ExecuteTime": {
     "end_time": "2024-11-12T05:54:13.610236800Z",
     "start_time": "2024-11-12T05:54:13.576727800Z"
    }
   },
   "outputs": [
    {
     "name": "stdout",
     "output_type": "stream",
     "text": [
      "Fingerprint for CCO: [0 0 0 ... 0 0 0]\n",
      "Shape of fingerprint for CCO: (1024,)\n"
     ]
    }
   ],
   "source": [
    "from rdkit import Chem\n",
    "from rdkit.Chem import AllChem\n",
    "import numpy as np\n",
    "\n",
    "# Load a molecule from a SMILES string\n",
    "mol = Chem.MolFromSmiles('CCO') # SMILES 'CCO' corresponds to the molecule ethanol (C2H5OH)\n",
    "\n",
    "# Generate the Morgan fingerprint\n",
    "fp1 = AllChem.GetMorganFingerprintAsBitVect(mol, 2, nBits=1024)# 2 is the radius of the fingerprint and 1024 is the length of the fingerprint\n",
    "\n",
    "# Convert to a numpy array for further processing\n",
    "fingerprint_array1 = np.array(fp1)\n",
    "print('Fingerprint for CCO:', fingerprint_array1)\n",
    "print('Shape of fingerprint for CCO:', fingerprint_array1.shape)"
   ]
  },
  {
   "cell_type": "code",
   "execution_count": 3,
   "id": "d708a0179637ae50",
   "metadata": {
    "collapsed": false,
    "ExecuteTime": {
     "end_time": "2024-11-12T05:54:14.714088300Z",
     "start_time": "2024-11-12T05:54:14.684573200Z"
    }
   },
   "outputs": [
    {
     "name": "stdout",
     "output_type": "stream",
     "text": [
      "MACCS keys fingerprint for CCO: [0 0 0 0 0 0 0 0 0 0 0 0 0 0 0 0 0 0 0 0 0 0 0 0 0 0 0 0 0 0 0 0 0 0 0 0 0\n",
      " 0 0 0 0 0 0 0 0 0 0 0 0 0 0 0 0 0 0 0 0 0 0 0 0 0 0 0 0 0 0 0 0 0 0 0 0 0\n",
      " 0 0 0 0 0 0 0 0 1 0 0 0 0 0 0 0 0 0 0 0 0 0 0 0 0 0 0 0 0 0 0 0 0 0 0 1 0\n",
      " 0 0 0 1 0 0 0 0 0 0 0 0 0 0 0 0 0 0 0 0 0 0 0 0 0 0 0 0 1 0 0 0 0 0 0 0 0\n",
      " 0 0 0 0 0 1 0 1 0 1 0 0 1 0 0 0 1 0 0]\n",
      "Shape of MACCS keys fingerprint for CCO: (167,)\n"
     ]
    }
   ],
   "source": [
    "# Generate the MACCS keys\n",
    "fp2 = AllChem.GetMACCSKeysFingerprint(mol)\n",
    "fingerprint_array2 = np.array(fp2)\n",
    "print('MACCS keys fingerprint for CCO:', fingerprint_array2)\n",
    "print('Shape of MACCS keys fingerprint for CCO:', fingerprint_array2.shape)"
   ]
  },
  {
   "cell_type": "markdown",
   "id": "3031ab7a865995bc",
   "metadata": {
    "collapsed": false
   },
   "source": [
    "### 1.1.2 Substrate Pretrained Models\n",
    "- **Definition**: Substrate language models, such as ChemBERTa, are pre-trained deep learning models that can encode substrate sequences into numerical representations.  These models capture the contextual information and structural properties of the molecules in the substrate sequence.\n",
    "There are many pretrained models for compounds, if you are interested, please check [this github repo](https://github.com/junxia97/awesome-pretrain-on-molecules) for further information. \n",
    "- **Example**:\n",
    "Here we will use one of them [ChemBERTa](https://arxiv.org/abs/2010.09885) as one example:\n",
    "The ChemBERTa-77M-MTR model was pretrained on a dataset containing 77M unique SMILES.\n",
    "ChemBERTa-77M-MTR accepts SMILES of molecules as input and generates embedding vectors of the input SMILES, which can be used for a variety of downstream tasks including molecular property prediction, which is used for predicting a variety of physicochemical properties of a molecule, and drug-drug interactions, among others."
   ]
  },
  {
   "cell_type": "code",
   "execution_count": 6,
   "id": "2b73dcecb567336a",
   "metadata": {
    "collapsed": false,
    "ExecuteTime": {
     "end_time": "2024-11-12T05:55:30.922487100Z",
     "start_time": "2024-11-12T05:55:30.878791800Z"
    }
   },
   "outputs": [
    {
     "name": "stderr",
     "output_type": "stream",
     "text": [
      "Some weights of RobertaForMaskedLM were not initialized from the model checkpoint at /home/xiongwen/ChemBERTa-77M-MTR and are newly initialized: ['lm_head.bias', 'lm_head.decoder.bias', 'lm_head.dense.bias', 'lm_head.dense.weight', 'lm_head.layer_norm.bias', 'lm_head.layer_norm.weight']\n",
      "You should probably TRAIN this model on a down-stream task to be able to use it for predictions and inference.\n"
     ]
    }
   ],
   "source": [
    "from transformers import AutoTokenizer, AutoModelForMaskedLM\n",
    "import warnings\n",
    "\n",
    "# 忽略特定类型的警告，例如 DeprecationWarning\n",
    "warnings.filterwarnings(\"ignore\")\n",
    "\n",
    "# Define the path to the pre-trained ChemBERTa model 这边的路径你看一下哈\n",
    "SMILES_BERT = \"/data/home/jiahao/class2/ChemBERTa-77M-MTR\"\n",
    "\n",
    "# Initialize an empty dictionary to store SMILES representations\n",
    "smiles_reprs = {}\n",
    "\n",
    "# Load the tokenizer for the pre-trained ChemBERTa model\n",
    "smiles_tokenizer = AutoTokenizer.from_pretrained(SMILES_BERT)\n",
    "\n",
    "# Load the pre-trained ChemBERTa model for masked language modeling\n",
    "smiles_bert = AutoModelForMaskedLM.from_pretrained(SMILES_BERT)"
   ]
  },
  {
   "cell_type": "code",
   "execution_count": 7,
   "id": "dd970f4709a9f53",
   "metadata": {
    "collapsed": false,
    "ExecuteTime": {
     "end_time": "2024-11-12T05:55:44.196918800Z",
     "start_time": "2024-11-12T05:55:44.129885300Z"
    }
   },
   "outputs": [],
   "source": [
    "# Input SMILES and generate embedding vectors of the input SMILES.\n",
    "def get_last_layer_repr(smiles):\n",
    "    \"\"\"\n",
    "    Function to get the last layer representation (logits) of a given SMILES string using the pre-trained ChemBERTa model.\n",
    "    \n",
    "    Args:\n",
    "    - smiles (str): The SMILES string for which to obtain the representation.\n",
    "    \n",
    "    Returns:\n",
    "    - last_layer_repr (torch.Tensor): The logits (last layer representation) of the SMILES string.\n",
    "    \"\"\"\n",
    "    \n",
    "    # Use the predefined tokenizer\n",
    "    tokenizer = smiles_tokenizer\n",
    "    \n",
    "    # Use the predefined model\n",
    "    model = smiles_bert\n",
    "    \n",
    "    # Freeze the model parameters to prevent backpropagation\n",
    "    for param in model.parameters():\n",
    "        param.requires_grad = False\n",
    "    \n",
    "    # Move the model to the CPU\n",
    "    model = model.to('cpu')\n",
    "    \n",
    "    # Set the model to evaluation mode\n",
    "    model.eval()\n",
    "    \n",
    "    # Define the key to extract the logits from the model output\n",
    "    key = \"logits\"\n",
    "    \n",
    "    # Define the maximum length for tokenization\n",
    "    max_length = 500\n",
    "    \n",
    "    # Tokenize the SMILES string\n",
    "    tokens = tokenizer(\n",
    "        smiles,\n",
    "        max_length=max_length,\n",
    "        padding=True,\n",
    "        truncation=True,\n",
    "        return_tensors=\"pt\"\n",
    "    )\n",
    "    \n",
    "    # Get the last layer representation (logits) by passing the tokenized input through the model\n",
    "    last_layer_repr = model(**tokens)[key]\n",
    "    \n",
    "    # Return the last layer representation\n",
    "    return last_layer_repr"
   ]
  },
  {
   "cell_type": "code",
   "execution_count": 8,
   "id": "8bba24c2e22cddb9",
   "metadata": {
    "collapsed": false,
    "ExecuteTime": {
     "end_time": "2024-11-12T05:55:45.661379800Z",
     "start_time": "2024-11-12T05:55:45.328559400Z"
    }
   },
   "outputs": [
    {
     "name": "stdout",
     "output_type": "stream",
     "text": [
      "Representation of O=C2CCC2CC: tensor([[[ 0.0583,  0.0000,  0.0513,  ...,  0.2329,  0.1750,  0.2630],\n",
      "         [ 0.0079,  0.0000,  0.0632,  ...,  0.4410, -0.0261, -0.4640],\n",
      "         [ 0.0081,  0.0000,  0.0633,  ...,  0.4379, -0.0272, -0.4606],\n",
      "         ...,\n",
      "         [-0.0556,  0.0000,  0.1813,  ...,  0.3718,  0.0662, -0.3834],\n",
      "         [-0.0586,  0.0000,  0.1835,  ...,  0.3984,  0.0687, -0.3927],\n",
      "         [-0.0241,  0.0000,  0.1135,  ...,  0.3740, -0.0062, -0.3492]]])\n"
     ]
    }
   ],
   "source": [
    "# This is one example of how we can use the ChemBERTa to generate embedding represention of the molecule 2-Ethylcyclobutanone, O=C2CCC2CC is inputted using its SMILES.\n",
    "last_layer_repr = get_last_layer_repr('O=C2CCC2CC')\n",
    "print('Representation of O=C2CCC2CC:', last_layer_repr)"
   ]
  },
  {
   "cell_type": "markdown",
   "id": "92218540",
   "metadata": {},
   "source": [
    "### Question 1 Could you generate the ChemBERTa embedding for ethanol? You need to find the SMILES of ethanol by yourself and then using code to generate embeding"
   ]
  },
  {
   "cell_type": "code",
   "execution_count": null,
   "id": "1aa35471",
   "metadata": {},
   "outputs": [],
   "source": [
    "# type your code here"
   ]
  },
  {
   "cell_type": "markdown",
   "id": "3cad6e23561fe5ea",
   "metadata": {
    "collapsed": false
   },
   "source": [
    "## 1.2 Protein Sequence Feature Extraction (Knowledge review)\n",
    "### 1.2.1 Protein Language Models\n",
    "- **Definition**: Protein language models, such as ESM2 (Evolutionary Scale Modeling 2), are pre-trained deep learning models that can encode protein sequences into numerical representations. These models capture the contextual information and structural properties of amino acids in the sequence.\n",
    "- There are different variants of ESM2 with parameter counts ranging from 35M to 15B. Among them, the commonly used ESM2-T33-650M_UR50D model has about 650 million parameters.\n",
    "- ESM2 was pretrained on large-scale protein sequence databases, including UniRef50 (a non-redundant protein sequence database containing 50% sequence identity) and other publicly available protein sequence datasets.\n",
    "- ESM2 accepts protein sequences ESM2 accepts as input protein sequences, typically represented as one-dimensional sequences of amino acids, and the model generates embedding vectors for each position, which can be used for a variety of downstream tasks.\n",
    "- **Example**:\n",
    "\n",
    "   - if the download is slow, you can download the model from https://dl.fbaipublicfiles.com/fair-esm/models/esm2_t6_8M_UR50D.pt and put it in /data/home/{yourusername}/.cache/torch/hub/checkpoints/ \n"
   ]
  },
  {
   "cell_type": "code",
   "execution_count": 9,
   "id": "199192e38a6b8062",
   "metadata": {
    "collapsed": false,
    "ExecuteTime": {
     "end_time": "2024-11-12T05:56:06.052903700Z",
     "start_time": "2024-11-12T05:55:54.884408700Z"
    }
   },
   "outputs": [
    {
     "name": "stdout",
     "output_type": "stream",
     "text": [
      "Encoded representations shape: torch.Size([1, 60, 1280])\n",
      "Encoded representations: tensor([[[ 0.0758,  0.0112,  0.0675,  ..., -0.2298,  0.1255, -0.0867],\n",
      "         [-0.0311,  0.0249,  0.0155,  ...,  0.0558, -0.0818,  0.0376],\n",
      "         [ 0.0782,  0.0190,  0.0347,  ...,  0.2752, -0.1195,  0.0635],\n",
      "         ...,\n",
      "         [-0.0699,  0.1458,  0.0085,  ...,  0.1276,  0.0031,  0.2516],\n",
      "         [ 0.0344,  0.1352, -0.0007,  ..., -0.0695, -0.0423,  0.3213],\n",
      "         [ 0.1390, -0.0400,  0.1007,  ..., -0.1855,  0.1290, -0.0746]]],\n",
      "       device='cuda:0')\n"
     ]
    }
   ],
   "source": [
    "import torch\n",
    "import esm\n",
    "# ESM accepts the protein sequence as input, generates an embedding vector for each position and outputs it.\n",
    "def esm_method(sequence):\n",
    "    # Determine the device to use (GPU if available, otherwise CPU)\n",
    "    device = torch.device(\"cuda\" if torch.cuda.is_available() else \"cpu\")\n",
    "\n",
    "    # Load the pre-trained ESM model and its alphabet\n",
    "    model, alphabet = esm.pretrained.load_model_and_alphabet('/data/home/jiahao/class2/esm2_t33_650M_UR50D.pt')\n",
    "    model = model.to(device)  # Move the model to the specified device\n",
    "    model.eval()  # Set the model to evaluation mode\n",
    "\n",
    "    # Encode the input sequence into token IDs\n",
    "    token_ids = torch.tensor([alphabet.encode(sequence)], device=device)\n",
    "\n",
    "    # Forward pass through the model without gradient calculation\n",
    "    with torch.no_grad():\n",
    "        results = model(token_ids, repr_layers=[33])  # Get the output of the last layer (layer 33)\n",
    "        token_embeddings = results[\"representations\"][33]  # Extract the token embeddings from the results\n",
    "\n",
    "    # Calculate the mean embedding for the entire sequence (optional)\n",
    "    # token_embeddings = token_embeddings.mean(dim=1)\n",
    "    \n",
    "    return token_embeddings\n",
    "\n",
    "# Example usage\n",
    "protein_sequence = \"MKWVTFISLLFLFSSAYSAAAAAAAAAAAAAAAAAAAAAAAAAAAAAAAAAAAAAAAAAA\"\n",
    "protein_emb_esm = esm_method(protein_sequence)\n",
    "\n",
    "# Print the shape and the encoded representations\n",
    "print(\"Encoded representations shape:\", protein_emb_esm.shape)\n",
    "print(\"Encoded representations:\", protein_emb_esm)"
   ]
  },
  {
   "cell_type": "markdown",
   "id": "b35547c09d85e2c6",
   "metadata": {
    "collapsed": false
   },
   "source": [
    " - **Explanation**:\n",
    "    - **Tokenization**: The sequence is tokenized using the ESM2 tokenizer, which converts the amino acid sequence into a format that the model can process.\n",
    "    - **Model Output**: The model processes the tokenized sequence and produces embeddings. The `last_hidden_state` contains the contextualized embeddings for each amino acid in the sequence.\n",
    "    - **Embedding Shape**: The embeddings have a shape of `[1, sequence_length, embedding_dim]`. For example, if the sequence length is 60 and the embedding dimension is 320, the shape will be `[1, 60, 320]`."
   ]
  },
  {
   "cell_type": "markdown",
   "id": "82518f1c",
   "metadata": {},
   "source": [
    "### Question 2 Please use ESM2 to generate embedding for ADH1 of S. cerevisiae, you need to find the sequence by yourself, and then use ESM2 to generate embeeding for that sequence.\n"
   ]
  },
  {
   "cell_type": "code",
   "execution_count": null,
   "id": "6ac52c3f",
   "metadata": {},
   "outputs": [],
   "source": [
    "# Type your code here"
   ]
  },
  {
   "cell_type": "markdown",
   "id": "d96e432053280a1c",
   "metadata": {
    "collapsed": false
   },
   "source": [
    "## 2. Prediction of enzyme substrates\n",
    "![ESP](./ESP_model.png)\n",
    "Protein sequence features were extracted using ESM2 and substrate features were extracted using ChemBERTa, and the combination of the two features was input into the XGBoost machine learning model to determine whether the enzyme could catalyze the substrate.\n",
    "### 2.1 Combination of enzyme features and substrate features.\n",
    "Load the preprocessed training, validation, and test set data. The data includes enzyme embeddings processed using the ESM2 model, SMILES features extracted using the ChemBERTa model, the labels of the data, and embeddings combining enzyme features and substrate features using a deep learning model."
   ]
  },
  {
   "cell_type": "code",
   "execution_count": 4,
   "id": "1a2823eb081e101b",
   "metadata": {
    "collapsed": false,
    "ExecuteTime": {
     "end_time": "2024-11-12T02:23:09.815608900Z",
     "start_time": "2024-11-12T02:23:09.246976200Z"
    }
   },
   "outputs": [],
   "source": [
    "# load the xgboost module \n",
    "import xgboost as xgb\n",
    "\n",
    "# Load ADH data, the data is splitted into train, validation and test.\n",
    "# Load validation dataset\n",
    "loaded_val = np.load('/data/home/jiahao/class2/val_array_adh.npz')\n",
    "# Unpack the validation dataset\n",
    "_, val_esm2, val_smiles, val_labels = loaded_val['val_cls'], loaded_val['val_esm1b'], loaded_val['val_smiles'], loaded_val['val_labels']\n",
    "\n",
    "# Load test dataset\n",
    "loaded_test = np.load('/data/home/jiahao/class2/test_array_adh.npz')\n",
    "# Unpack the test dataset\n",
    "_, test_esm2, test_smiles, test_labels, test_indices = loaded_test['test_cls'], loaded_test['test_esm1b'], loaded_test['test_smiles'], loaded_test['test_labels'], loaded_test['test_indices']\n",
    "\n",
    "# Load training dataset\n",
    "loaded_train = np.load('/data/home/jiahao/class2/train_array_adh.npz')\n",
    "# Unpack the training dataset\n",
    "_, train_esm2, train_smiles, train_labels = loaded_train['train_cls'], loaded_train['train_esm1b'], loaded_train['train_smiles'], loaded_train['train_labels']\n"
   ]
  },
  {
   "cell_type": "code",
   "outputs": [
    {
     "name": "stdout",
     "output_type": "stream",
     "text": [
      "Training set contains 51164 data.\n",
      "Test set contains 13336 data.\n",
      "Validation set contains 5422 data.\n"
     ]
    }
   ],
   "source": [
    "print('Training set contains', len(train_labels), 'data.')\n",
    "print('Test set contains', len(test_labels), 'data.')\n",
    "print('Validation set contains', len(val_labels), 'data.')"
   ],
   "metadata": {
    "collapsed": false,
    "ExecuteTime": {
     "end_time": "2024-11-12T02:33:11.750421600Z",
     "start_time": "2024-11-12T02:33:11.705917200Z"
    }
   },
   "id": "76bfd09affe1dd89",
   "execution_count": 11
  },
  {
   "cell_type": "code",
   "outputs": [],
   "source": [
    "print('SMILES embedding of the first data.', train_smiles[0])\n",
    "print('Protein embedding of the first data.', train_esm2[0])\n",
    "# Label 1 means that the enzyme can catalyze the substrate and label 0 means that the enzyme cannot catalyze the substrate.\n",
    "print('Training set label:', train_labels)"
   ],
   "metadata": {
    "collapsed": false
   },
   "id": "edf9721f630c59a4"
  },
  {
   "cell_type": "code",
   "execution_count": 12,
   "id": "c4385a8e",
   "metadata": {
    "ExecuteTime": {
     "end_time": "2024-11-12T06:37:06.471357Z",
     "start_time": "2024-11-12T06:37:06.203470200Z"
    }
   },
   "outputs": [
    {
     "name": "stdout",
     "output_type": "stream",
     "text": [
      "Head of data    Uniprot ID  molecule ID  output  \\\n",
      "0      Q5B2F7  CHEBI:57344       1   \n",
      "1      Q9SAH9  CHEBI:58349       1   \n",
      "2      Q8IPJ6  CHEBI:57776       1   \n",
      "3  A0A1D5PCZ1       C00002       1   \n",
      "4      O22765  CHEBI:33384       1   \n",
      "\n",
      "                                    Protein sequence  \\\n",
      "0  MQNSTKTVRIVEVGPRDGLQNIPQSIDSTIKLDLIRRLRDAGLQTI...   \n",
      "1  MLVDGKLVCVTGAGGYIASWIVKLLLERGYTVRGTVRNPTDPKNNH...   \n",
      "2  MTDYLSLHSRLAQVGQEHLLKFWPELTNDERIDLVRDIEELNLDEI...   \n",
      "3  MAEPPAAPGPEGEEGPVRFARKGALRQKNVHEVKNHKFTARFFKQP...   \n",
      "4  MDLLKTPSSTVGLSETFARLKSQGKVALIPYITAGDPDLSTTAKAL...   \n",
      "\n",
      "                                              SMILES  \n",
      "0  CC(C)=CC(=O)SCCN=C([O-])CCN=C([O-])[C@H](O)C(C...  \n",
      "1  N=C([O-])c1ccc[n+]([C@@H]2O[C@H](COP(=O)(O)OP(...  \n",
      "2  CC([O-])=N[C@H]1[C@@H](OP(=O)([O-])O)O[C@H](CO...  \n",
      "3  Nc1ncnc2c1ncn2[C@@H]1O[C@H](COP(=O)(O)OP(=O)(O...  \n",
      "4                                  N[C@@H](CO)C(=O)O  \n"
     ]
    }
   ],
   "source": [
    "# Then we will use ChemBERTa and ESM1b to generate embeddings for all substrates and enzymes. Due to the time and computational cost, we have precomputated the embeddings.\n",
    "import pandas as pd\n",
    "df = pd.read_csv('ESP_training_dataset.csv')\n",
    "df = df[df['output']==1]\n",
    "print('Head of data', df.head())\n"
   ]
  },
  {
   "cell_type": "markdown",
   "id": "ed288916",
   "metadata": {},
   "source": [
    "### Question 3: It is crucial to verify the accuracy of the loaded data. Please check the printed entry in the next box. Visit the UniProt database to confirm that one of the entries is correct. You are given the sequence, go to UniProt/NCBI database to find the ID, and go to PubChem database to use its SMILES to find the substrate name, and visit Gene Ontology (GO) annotation database or Uniprot database verify wether the label is correct?\n",
    "\n",
    "#### The UniProt ID for the enzyme sequence is ________________\n",
    "#### The Compound name for the SMILES is ________________\n",
    "#### The website link which documents the enzyme can catalyze the substrate is ________________"
   ]
  },
  {
   "cell_type": "code",
   "execution_count": 14,
   "id": "0abf79fd",
   "metadata": {
    "ExecuteTime": {
     "end_time": "2024-11-12T06:38:39.649236500Z",
     "start_time": "2024-11-12T06:38:39.613047600Z"
    }
   },
   "outputs": [
    {
     "name": "stdout",
     "output_type": "stream",
     "text": [
      "Verified data Uniprot ID                                                     Q9SAH9\n",
      "molecule ID                                               CHEBI:58349\n",
      "output                                                              1\n",
      "Protein sequence    MLVDGKLVCVTGAGGYIASWIVKLLLERGYTVRGTVRNPTDPKNNH...\n",
      "SMILES              N=C([O-])c1ccc[n+]([C@@H]2O[C@H](COP(=O)(O)OP(...\n",
      "Name: 1, dtype: object\n"
     ]
    }
   ],
   "source": [
    "# Print one entry of the loaded data\n",
    "data_index = 1 # Choose one entry\n",
    "print('Verified data', df.loc[data_index])"
   ]
  },
  {
   "cell_type": "markdown",
   "id": "773525d645c47c99",
   "metadata": {
    "collapsed": false
   },
   "source": [
    "### Then in order to do the enzyme-substrate pair prediction, we need concatenate feature for substrate and enzyme sequence for each entry: \n",
    "Use np.concatenate to concatenate the ESM-1b embeddings and SMILES features along the first dimension (i.e., the feature dimension) to generate the complete enzyme-substrate feature matrix."
   ]
  },
  {
   "cell_type": "code",
   "execution_count": 15,
   "id": "46a24b3c148e9ea3",
   "metadata": {
    "collapsed": false,
    "ExecuteTime": {
     "end_time": "2024-11-12T02:42:57.944389500Z",
     "start_time": "2024-11-12T02:42:56.903834400Z"
    }
   },
   "outputs": [
    {
     "name": "stdout",
     "output_type": "stream",
     "text": [
      "Protein embedding dimension of the first data in the training set: (1280,)\n",
      "SMILES embedding dimension of the first data in the training set: (600,)\n",
      "Combined embedding dimension of the first data in the training set: (1880,)\n"
     ]
    }
   ],
   "source": [
    "############# ESM2+ChemBERTa\n",
    "# Concatenate ESM-1b embeddings and SMILES features for each dataset\n",
    "train_X_all = np.concatenate([train_esm2, train_smiles], axis=1)\n",
    "test_X_all = np.concatenate([test_esm2, test_smiles], axis=1)\n",
    "val_X_all = np.concatenate([val_esm2, val_smiles], axis=1)\n",
    "\n",
    "# Convert concatenated features and labels to DMatrix format for XGBoost\n",
    "dtrain = xgb.DMatrix(np.array(train_X_all), label=np.array(train_labels).astype(float))\n",
    "dtest = xgb.DMatrix(np.array(test_X_all), label=np.array(test_labels).astype(float))\n",
    "dvalid = xgb.DMatrix(np.array(val_X_all), label=np.array(val_labels).astype(float))\n",
    "\n",
    "print('Protein embedding dimension of the first data in the training set:', train_esm2[0].shape)\n",
    "print('SMILES embedding dimension of the first data in the training set:', train_smiles[0].shape)\n",
    "print('Combined embedding dimension of the first data in the training set:',train_X_all[0].shape)"
   ]
  },
  {
   "cell_type": "markdown",
   "id": "68fdcfb328993b01",
   "metadata": {
    "collapsed": false
   },
   "source": [
    "## 2.2 XGBoost\n",
    "- Then the contacted embedding is fed into a machine learning model. Here we use XGBoost.\n",
    "- XGBoost, short for eXtreme Gradient Boosting, is an optimized distributed gradient boosting library designed to be highly efficient, flexible, and portable. It implements machine learning algorithms under the Gradient Boosting framework. XGBoost provides a parallel tree boosting (also known as GBDT, GBM).\n",
    "- XGBoost is a powerful machine learning algorithm that excels in handling feature processing for classification tasks. It uses gradient boosting to iteratively add decision trees, each correcting the errors of the previous ones."
   ]
  },
  {
   "cell_type": "code",
   "execution_count": null,
   "id": "51873eaf8a1a2a89",
   "metadata": {
    "ExecuteTime": {
     "end_time": "2024-11-11T01:39:18.251776Z",
     "start_time": "2024-11-11T01:39:18.240684100Z"
    },
    "collapsed": false
   },
   "outputs": [],
   "source": [
    "# 说一下这个block在干啥\n",
    "from sklearn.metrics import roc_auc_score, matthews_corrcoef, roc_curve\n",
    "import matplotlib.pyplot as plt\n",
    "import numpy as np\n",
    "\n",
    "def get_performance_metrics(pred, true):\n",
    "    \"\"\"\n",
    "    Calculate performance metrics including accuracy, ROC AUC score, and Matthews correlation coefficient.\n",
    "    \n",
    "    Parameters:\n",
    "    pred (array-like): Predicted probabilities or scores.\n",
    "    true (array-like): True binary labels.\n",
    "    \n",
    "    Returns:\n",
    "    tuple: Tuple containing accuracy, ROC AUC score, and Matthews correlation coefficient.\n",
    "    \"\"\"\n",
    "    # Calculate accuracy\n",
    "    acc = np.mean(np.round(pred) == np.array(true))\n",
    "    # Calculate ROC AUC score\n",
    "    roc_auc = roc_auc_score(np.array(true), pred)\n",
    "    # Calculate Matthews correlation coefficient\n",
    "    mcc = matthews_corrcoef(np.array(true), np.round(pred))\n",
    "    return acc, roc_auc, mcc\n",
    "\n",
    "def plot_performance_metrics(acc, roc_auc, mcc):\n",
    "    \"\"\"\n",
    "    Plot a bar chart to display the performance metrics.\n",
    "    \n",
    "    Parameters:\n",
    "    acc (float): Accuracy.\n",
    "    roc_auc (float): ROC AUC score.\n",
    "    mcc (float): Matthews correlation coefficient.\n",
    "    \"\"\"\n",
    "    # Performance metrics\n",
    "    metrics = ['Accuracy', 'ROC AUC', 'MCC']\n",
    "    values = [acc, roc_auc, mcc]\n",
    "    \n",
    "    # Create a bar chart\n",
    "    plt.figure(figsize=(5, 3))\n",
    "    plt.bar(metrics, values, color=['#1f77b4', '#8c564b', '#e377c2'])\n",
    "    \n",
    "    # Set labels and title\n",
    "    plt.xlabel('Performance Metrics')\n",
    "    plt.ylabel('Value')\n",
    "    \n",
    "    # Show the plot\n",
    "    plt.show()\n",
    "\n",
    "def plot_roc_curve(test_labels, y_test_pred):\n",
    "    \"\"\"\n",
    "    Draw the ROC curve for the given true labels and predicted probabilities.\n",
    "    \n",
    "    Parameters:\n",
    "    test_labels (array-like): True binary labels.\n",
    "    y_test_pred (array-like): Predicted probabilities.\n",
    "    \"\"\"\n",
    "    # Compute the false positive rate, true positive rate, and thresholds\n",
    "    fpr, tpr, _ = roc_curve(np.array(test_labels), y_test_pred)\n",
    "    \n",
    "    # Plot the ROC curve\n",
    "    plt.figure(figsize=(4, 3))\n",
    "    plt.plot(fpr, tpr, color='red', lw=2, label=f'ROC curve (AUC = {roc_auc:.2f})')\n",
    "    # Plot the random guess ROC curve (diagonal line)\n",
    "    plt.plot([0, 1], [0, 1], color='gray', lw=1, linestyle='--')\n",
    "    \n",
    "    # Set plot limits\n",
    "    plt.xlim([0.0, 1.0])\n",
    "    plt.ylim([0.0, 1.05])\n",
    "    \n",
    "    # Set labels and title\n",
    "    plt.xlabel('False Positive Rate')\n",
    "    plt.ylabel('True Positive Rate')\n",
    "    plt.title('Receiver Operating Characteristic')\n",
    "    \n",
    "    # Add legend\n",
    "    plt.legend(loc=\"lower right\")\n",
    "    \n",
    "    # Show the plot\n",
    "    plt.show()"
   ]
  },
  {
   "cell_type": "code",
   "outputs": [],
   "source": [
    "# Parameters of XGBoost\n",
    "params = {\n",
    "    'objective': 'binary:logistic',  # Binary classification task\n",
    "    'eval_metric': 'logloss',        # Evaluation metric\n",
    "    'eta': 0.1,                      # Learning rate\n",
    "    'max_depth': 6,                  # Maximum depth of the tree\n",
    "    'subsample': 0.8,                # Subsample ratio of the training instances\n",
    "    'colsample_bytree': 0.8,         # Subsample ratio of columns when constructing each tree\n",
    "    'seed': 42                       # Random seed\n",
    "}"
   ],
   "metadata": {
    "ExecuteTime": {
     "end_time": "2024-11-11T01:38:59.479368100Z",
     "start_time": "2024-11-11T01:38:59.469368100Z"
    },
    "collapsed": false
   },
   "id": "652564482a603d04",
   "execution_count": 98
  },
  {
   "cell_type": "code",
   "outputs": [],
   "source": [
    "# Define the number of rounds for training\n",
    "num_rounds = 20  # Number of boosting rounds\n",
    "\n",
    "# Train the XGBoost model.\n",
    "print('Starts to Train!')\n",
    "model = xgb.train(params, dtrain, num_rounds)\n",
    "print('End')\n",
    "\n",
    "\n",
    "# Make predictions on the test set \n",
    "y_test_pred = model.predict(dtest)\n",
    "\n",
    "# Make predictions on the validation set\n",
    "y_val_pred_all = model.predict(dvalid)"
   ],
   "metadata": {
    "ExecuteTime": {
     "end_time": "2024-11-11T01:39:18.234683Z",
     "start_time": "2024-11-11T01:39:00.513926Z"
    },
    "collapsed": false
   },
   "id": "6ef1eb402fc3fc5c",
   "execution_count": 0
  },
  {
   "cell_type": "code",
   "execution_count": 101,
   "id": "1a673781cee537bf",
   "metadata": {
    "ExecuteTime": {
     "end_time": "2024-11-11T01:39:18.482045700Z",
     "start_time": "2024-11-11T01:39:18.243776700Z"
    },
    "collapsed": false
   },
   "outputs": [
    {
     "name": "stdout",
     "output_type": "stream",
     "text": [
      "Accuracy on test set: 0.8119\n",
      "ROC AUC Score on test set: 0.8711\n",
      "Matthews Correlation Coefficient on test set: 0.4702\n"
     ]
    },
    {
     "data": {
      "image/png": "[encoded data removed]",
      "text/plain": [
       "<Figure size 500x300 with 1 Axes>"
      ]
     },
     "metadata": {},
     "output_type": "display_data"
    },
    {
     "data": {
      "image/png": "[encoded data removed]",
      "text/plain": [
       "<Figure size 400x300 with 1 Axes>"
      ]
     },
     "metadata": {},
     "output_type": "display_data"
    }
   ],
   "source": [
    "# Calculate performance metrics using the predicted labels and true labels\n",
    "acc, roc_auc, mcc = get_performance_metrics(y_test_pred, test_labels)\n",
    "\n",
    "# Print the calculated performance metrics\n",
    "print(f\"Accuracy on test set: {acc:.4f}\")\n",
    "print(f\"ROC AUC Score on test set: {roc_auc:.4f}\")\n",
    "print(f\"Matthews Correlation Coefficient on test set: {mcc:.4f}\")\n",
    "\n",
    "# Plot the performance metrics\n",
    "plot_performance_metrics(acc, roc_auc, mcc)\n",
    "\n",
    "# Plot the ROC curve\n",
    "plot_roc_curve(test_labels, y_test_pred)"
   ]
  },
  {
   "cell_type": "markdown",
   "source": [
    "### Question 4 Please increase num_rounds, what will happen?\n",
    "\n",
    "\n",
    "______________________________________________________________"
   ],
   "metadata": {},
   "id": "9b9ef292"
  },
  {
   "cell_type": "markdown",
   "id": "33a6b25b8c366ce2",
   "metadata": {
    "collapsed": false
   },
   "source": [
    "## 3 Machine Learning Parameter Optimization\n",
    "\n",
    "Parameter optimization is a crucial step in the machine learning pipeline. It involves tuning the hyperparameters of a model to achieve the best possible performance on a given task. Hyperparameters are settings that are not learned from the data but are set by the user before training begins. Effective parameter optimization can significantly improve the model's accuracy and generalization capabilities. Common techniques for parameter optimization include:\n",
    "- **Grid Search**: This method involves defining a grid of hyperparameter values and exhaustively searching through all possible combinations. While simple, it can be computationally expensive, especially with a large number of hyperparameters.\n",
    "- **Random Search**: Instead of searching through all combinations, random search randomly samples hyperparameter values from predefined distributions. This approach is often more efficient than grid search, especially when some hyperparameters have a larger impact on performance.\n",
    "- **Bayesian Optimization**: This technique uses probabilistic models to predict which hyperparameters are likely to yield the best performance. It iteratively selects the next set of hyperparameters to evaluate based on the results of previous evaluations, making it more efficient than grid and random search.\n",
    "- **Gradient-Based Optimization**: For differentiable models, gradient-based methods like gradient descent can be used to optimize hyperparameters directly. This is particularly effective for neural networks."
   ]
  },
  {
   "cell_type": "code",
   "execution_count": 102,
   "id": "40b9abe6cb79fa34",
   "metadata": {
    "ExecuteTime": {
     "end_time": "2024-11-11T01:39:18.489044600Z",
     "start_time": "2024-11-11T01:39:18.485045300Z"
    },
    "collapsed": false
   },
   "outputs": [],
   "source": [
    "from hyperopt import fmin, tpe, hp, Trials, rand\n",
    "\n",
    "# Define an array of possible values for the max_depth parameter.\n",
    "depth_array = [6, 7, 8, 9, 10, 11, 12, 13, 14]\n",
    "\n",
    "# Define the search space for the Gradient Boosting model parameters.\n",
    "space_gradient_boosting = {\"learning_rate\": hp.uniform(\"learning_rate\", 0.01, 0.5),  # Learning rate for reducing the contribution of each tree.\n",
    "                           \"max_depth\": hp.choice(\"max_depth\", depth_array), # Maximum depth of the tree\n",
    "                           \"reg_lambda\": hp.uniform(\"reg_lambda\", 0, 5),  # L2 regularization term on weights.\n",
    "                           \"reg_alpha\": hp.uniform(\"reg_alpha\", 0, 5),  # L1 regularization term on weights.\n",
    "                           \"max_delta_step\": hp.uniform(\"max_delta_step\", 0, 5), # Maximum delta step we allow each tree's weight estimation to be.\n",
    "                           \"min_child_weight\": hp.uniform(\"min_child_weight\", 0.1, 15), # Minimum sum of instance weight (hessian) needed in a child.\n",
    "                           \"num_rounds\": hp.uniform(\"num_rounds\", 30, 100), # Number of boosting rounds\n",
    "                           \"weight\": hp.uniform(\"weight\", 0.01, 0.99)} # Class weight for the negative class\n",
    "\n",
    "# Function to calculate the performance using Matthews correlation coefficient (MCC).\n",
    "def get_performance(pred, true):\n",
    "    MCC = matthews_corrcoef(true, np.round(pred))  # Calculate MCC between predicted and true labels.\n",
    "    return (-MCC)  # Return the negative MCC since Hyperopt minimizes the objective function.\n"
   ]
  },
  {
   "cell_type": "code",
   "execution_count": null,
   "id": "fcacaa022fc40c89",
   "metadata": {
    "ExecuteTime": {
     "end_time": "2024-11-11T01:43:17.854685200Z",
     "start_time": "2024-11-11T01:42:45.027294100Z"
    },
    "collapsed": false
   },
   "outputs": [
    {
     "name": "stdout",
     "output_type": "stream",
     "text": [
      "100%|██████████| 20/20 [00:32<00:00,  1.64s/trial, best loss: -0.7549557623334882]\n",
      "Best parameters found: {'learning_rate': 0.45319417257145367, 'max_delta_step': 0.5566644050034208, 'max_depth': 7, 'min_child_weight': 4.345101746371373, 'num_rounds': 80.5121456411096, 'reg_alpha': 4.967311161701705, 'reg_lambda': 1.96598004429223, 'weight': 0.8642136008654464}\n"
     ]
    }
   ],
   "source": [
    "def set_param_values(param):\n",
    "    \"\"\"\n",
    "    Set specific parameter values for XGBoost and handle class weights.\n",
    "    \n",
    "    Parameters:\n",
    "    param (dict): Dictionary of parameters for XGBoost.\n",
    "    \n",
    "    Returns:\n",
    "    tuple: Updated parameter dictionary and number of boosting rounds.\n",
    "    \"\"\"\n",
    "    num_round = int(param[\"num_rounds\"])\n",
    "    param[\"tree_method\"] = \"hist\"  # Use histogram-based algorithm\n",
    "    param[\"device\"] = \"cuda\"  # Use GPU for training\n",
    "    param[\"sampling_method\"] = \"gradient_based\"  # Sampling method for histogram bins\n",
    "    param['objective'] = 'binary:logistic'  # Binary classification objective\n",
    "    param['seed'] = 42  # Random seed for reproducibility\n",
    "    \n",
    "    # Set class weights for the training data\n",
    "    weights = np.array([param[\"weight\"] if y == 0 else 1.0 for y in dtrain.get_label()])\n",
    "    dtrain.set_weight(weights)\n",
    "    \n",
    "    # Remove the 'num_rounds' and 'weight' keys from the parameter dictionary\n",
    "    del param[\"num_rounds\"]\n",
    "    del param[\"weight\"]\n",
    "    \n",
    "    return (param, num_round)\n",
    "    \n",
    "def train_xgboost_model_all(param):\n",
    "    \"\"\"\n",
    "    Train an XGBoost model with the given parameters and evaluate its performance.\n",
    "    \n",
    "    Parameters:\n",
    "    param (dict): Dictionary of parameters for XGBoost.\n",
    "    \n",
    "    Returns:\n",
    "    float: Negative ROC AUC score (to minimize in hyperparameter optimization).\n",
    "    \"\"\"\n",
    "    param, num_round = set_param_values(param)\n",
    "    # Training:\n",
    "    bst = xgb.train(param, dtrain, num_round)\n",
    "    return (get_performance(pred=bst.predict(dvalid), true=val_labels))\n",
    "\n",
    "# Initialize the Trials object to track the optimization process\n",
    "trials = Trials()\n",
    "\n",
    "# Perform hyperparameter optimization using random search\n",
    "best = fmin(fn=train_xgboost_model_all, space=space_gradient_boosting,\n",
    "                algo=rand.suggest, max_evals=20, trials=trials)\n",
    "\n",
    "print(\"Best parameters found:\", best)"
   ]
  },
  {
   "cell_type": "code",
   "execution_count": 107,
   "id": "bd0e1aa1da3f9e80",
   "metadata": {
    "ExecuteTime": {
     "end_time": "2024-11-11T01:43:19.687940100Z",
     "start_time": "2024-11-11T01:43:17.875968500Z"
    },
    "collapsed": false
   },
   "outputs": [
    {
     "name": "stdout",
     "output_type": "stream",
     "text": [
      "Accuracy on test set: 0.8664\n",
      "ROC AUC Score on test set: 0.9010\n",
      "Matthews Correlation Coefficient on test set: 0.6358\n"
     ]
    },
    {
     "data": {
      "image/png": "[encoded data removed]",
      "text/plain": [
       "<Figure size 500x300 with 1 Axes>"
      ]
     },
     "metadata": {},
     "output_type": "display_data"
    },
    {
     "data": {
      "image/png": "[encoded data removed]",
      "text/plain": [
       "<Figure size 400x300 with 1 Axes>"
      ]
     },
     "metadata": {},
     "output_type": "display_data"
    }
   ],
   "source": [
    "# Set the best parameters found by hyperparameter optimization\n",
    "param, num_round = set_param_values(best)\n",
    "\n",
    "# Train the XGBoost model with the best parameters\n",
    "model = xgb.train(param, dtrain, num_round)\n",
    "\n",
    "# Make predictions on the test set\n",
    "y_test_pred = model.predict(dtest)\n",
    "\n",
    "# Calculate performance metrics for the test set\n",
    "acc, roc_auc, mcc = get_performance_metrics(y_test_pred, test_labels)\n",
    "\n",
    "# Print the performance metrics\n",
    "print(f\"Accuracy on test set: {acc:.4f}\")\n",
    "print(f\"ROC AUC Score on test set: {roc_auc:.4f}\")\n",
    "print(f\"Matthews Correlation Coefficient on test set: {mcc:.4f}\")\n",
    "\n",
    "# Plot the performance metrics\n",
    "plot_performance_metrics(acc, roc_auc, mcc)\n",
    "\n",
    "# Draw the ROC curve for the test set\n",
    "plot_roc_curve(test_labels, y_test_pred)"
   ]
  },
  {
   "cell_type": "markdown",
   "id": "90013f23c300e2ea",
   "metadata": {
    "collapsed": false
   },
   "source": [
    "#### **Question 5** Can you optimize hyperparameters using a grid search optimization strategy?\n",
    "\n",
    "\n",
    "-\n",
    "___________________________________________________________________________________"
   ]
  },
  {
   "cell_type": "markdown",
   "id": "5ddb03545963cda1",
   "metadata": {
    "collapsed": false
   },
   "source": [
    "## 4. Integrated Machine Learning Models\n",
    "### 4.1 Extract combining feature using deep learning model\n",
    "In addition to directly concatenating protein sequence features with substrate features, deep learning models can be used to combine these features more effectively. Neural networks can learn complex interactions between the features, improving model performance. Common approaches include:\n",
    "- **Concatenated Input Layers**: Feeding protein and substrate features into separate input layers and concatenating them later.\n",
    "- **Attention Mechanisms**: Using attention to dynamically weigh the importance of different features.\n",
    "- **Multi-Modal Fusion**: Integrating information from both features in a sophisticated manner to capture cross-modal interactions.\n",
    "- **Example**:\n",
    "    - Combining protein and substrate feature using deep learning model from Prosmith (cls)."
   ]
  },
  {
   "cell_type": "code",
   "execution_count": null,
   "id": "f95b98245885c6a7",
   "metadata": {
    "ExecuteTime": {
     "end_time": "2024-11-11T01:58:13.043095400Z",
     "start_time": "2024-11-11T01:58:12.113602Z"
    },
    "collapsed": false
   },
   "outputs": [
    {
     "data": {
      "text/plain": [
       "MM_TN(\n",
       "  (s_pooler): BertSmilesPooler(\n",
       "    (dense): Linear(in_features=600, out_features=768, bias=True)\n",
       "    (activation): ReLU()\n",
       "  )\n",
       "  (p_pooler): BertProteinPooler(\n",
       "    (dense): Linear(in_features=1280, out_features=768, bias=True)\n",
       "    (activation): ReLU()\n",
       "  )\n",
       "  (main_bert): Bert(\n",
       "    (transformer_layers): ModuleList(\n",
       "      (0-5): 6 x TransformerEncoderLayer(\n",
       "        (self_attn): MultiheadAttention(\n",
       "          (out_proj): NonDynamicallyQuantizableLinear(in_features=768, out_features=768, bias=True)\n",
       "        )\n",
       "        (linear1): Linear(in_features=768, out_features=3072, bias=True)\n",
       "        (dropout): Dropout(p=0.1, inplace=False)\n",
       "        (linear2): Linear(in_features=3072, out_features=768, bias=True)\n",
       "        (norm1): LayerNorm((768,), eps=1e-05, elementwise_affine=True)\n",
       "        (norm2): LayerNorm((768,), eps=1e-05, elementwise_affine=True)\n",
       "        (dropout1): Dropout(p=0.1, inplace=False)\n",
       "        (dropout2): Dropout(p=0.1, inplace=False)\n",
       "      )\n",
       "    )\n",
       "    (hidden_layer): Linear(in_features=768, out_features=32, bias=True)\n",
       "    (output_layer): Linear(in_features=32, out_features=1, bias=True)\n",
       "    (sigmoid_layer): Sigmoid()\n",
       "    (ReLU): ReLU()\n",
       "  )\n",
       ")"
      ]
     },
     "execution_count": 108,
     "metadata": {},
     "output_type": "execute_result"
    }
   ],
   "source": [
    "from modules import MM_TN, MM_TNConfig\n",
    "import os\n",
    "\n",
    "# Define the configuration for the MM_TN model\n",
    "config = MM_TNConfig.from_dict({\n",
    "    \"s_hidden_size\": 600,       # Hidden size for substrate features\n",
    "    \"p_hidden_size\": 1280,      # Hidden size for protein sequence features\n",
    "    \"hidden_size\": 768,         # Combined hidden size\n",
    "    \"max_seq_len\": 1276,        # Maximum sequence length\n",
    "    \"num_hidden_layers\": 6,     # Number of hidden layers\n",
    "    \"binary_task\": True         # Whether the task is binary classification\n",
    "})\n",
    "\n",
    "# Initialize the MM_TN model with the specified configuration\n",
    "model = MM_TN(config)\n",
    "\n",
    "# Set the device to GPU if available\n",
    "device = torch.device(\"cuda\")\n",
    "model = model.to(device)  # Move the model to the GPU\n",
    "\n",
    "# Path to the pretrained model weights\n",
    "pretain_path = '/data/home/jiahao/class2/pretraining_IC50_6gpus_bs144_1.5e-05_layers6.txt.pkl'\n",
    "\n",
    "# Check if the pretrained model weights file exists\n",
    "if os.path.exists(pretain_path):\n",
    "    # Load the pretrained model weights\n",
    "    state_dict = torch.load(pretain_path)\n",
    "    \n",
    "    # Get the current state dictionary of the model\n",
    "    new_model_state_dict = model.state_dict()\n",
    "    \n",
    "    # Copy the pretrained weights to the current model\n",
    "    for key in new_model_state_dict.keys():\n",
    "        if key in state_dict.keys():\n",
    "            try:\n",
    "                new_model_state_dict[key].copy_(state_dict[key])\n",
    "                # logging.info(\"Updated key: %s\" % key)\n",
    "            except:\n",
    "                pass  # Ignore any keys that cannot be copied\n",
    "    \n",
    "    # Load the updated state dictionary back into the model\n",
    "    model.load_state_dict(new_model_state_dict)\n",
    "\n",
    "# Set the model to evaluation mode\n",
    "model.eval()"
   ]
  },
  {
   "cell_type": "markdown",
   "id": "3567ef73bc2e35a5",
   "metadata": {
    "collapsed": false
   },
   "source": [
    "The deep learning model uses the enzyme features and substrate features obtained from the feature extraction code above to extract the combined features."
   ]
  },
  {
   "cell_type": "code",
   "execution_count": 109,
   "id": "f4fd12c2569a81f9",
   "metadata": {
    "ExecuteTime": {
     "end_time": "2024-11-11T01:58:14.210002300Z",
     "start_time": "2024-11-11T01:58:14.157490200Z"
    },
    "collapsed": false
   },
   "outputs": [
    {
     "name": "stdout",
     "output_type": "stream",
     "text": [
      "The shape of protein embedding is: torch.Size([1, 1024, 1280])\n",
      "The padding protein embedding is: tensor([[[ 0.0758,  0.0112,  0.0675,  ..., -0.2298,  0.1255, -0.0867],\n",
      "         [-0.0311,  0.0249,  0.0155,  ...,  0.0558, -0.0818,  0.0376],\n",
      "         [ 0.0782,  0.0190,  0.0347,  ...,  0.2752, -0.1195,  0.0635],\n",
      "         ...,\n",
      "         [ 0.0000,  0.0000,  0.0000,  ...,  0.0000,  0.0000,  0.0000],\n",
      "         [ 0.0000,  0.0000,  0.0000,  ...,  0.0000,  0.0000,  0.0000],\n",
      "         [ 0.0000,  0.0000,  0.0000,  ...,  0.0000,  0.0000,  0.0000]]],\n",
      "       device='cuda:0')\n",
      "The shape of substrate embedding is torch.Size([1, 256, 600])\n",
      "The padding substrate embedding is: tensor([[[ 0.3415,  0.0000,  0.2069,  ...,  0.3121,  0.0177, -0.1921],\n",
      "         [ 0.1533,  0.0000,  0.8172,  ..., -0.3437,  0.3419, -0.3620],\n",
      "         [ 0.1513,  0.0000,  0.8173,  ..., -0.3488,  0.3452, -0.3580],\n",
      "         ...,\n",
      "         [ 0.0000,  0.0000,  0.0000,  ...,  0.0000,  0.0000,  0.0000],\n",
      "         [ 0.0000,  0.0000,  0.0000,  ...,  0.0000,  0.0000,  0.0000],\n",
      "         [ 0.0000,  0.0000,  0.0000,  ...,  0.0000,  0.0000,  0.0000]]])\n"
     ]
    }
   ],
   "source": [
    "# Extract the first 256 elements from the last layer representation of the SMILES embedding\n",
    "smiles_emb = last_layer_repr[:256]  # Shape: torch.Size([600])\n",
    "\n",
    "# Extract the first 1024 elements from the ESM protein embedding\n",
    "protein_emb = protein_emb_esm[:1024]  # Shape: torch.Size([1024])\n",
    "\n",
    "# Create an attention mask for the SMILES embedding\n",
    "smiles_attn_mask = torch.zeros(256)  # Initialize a tensor of zeros with shape (256,)\n",
    "smiles_attn_mask[:smiles_emb.shape[0]] = 1  # Set the first `smiles_emb.shape[0]` elements to 1\n",
    "\n",
    "# Create an attention mask for the protein embedding\n",
    "protein_attn_mask = torch.zeros(1024)  # Initialize a tensor of zeros with shape (1024,)\n",
    "protein_attn_mask[:protein_emb.shape[0]] = 1  # Set the first `protein_emb.shape[0]` elements to 1\n",
    "\n",
    "# Define padding for the SMILES embedding to ensure it has a fixed size of (256, 256)\n",
    "smiles_padding = (0, 0, 0, 256 - smiles_emb.shape[1])\n",
    "\n",
    "# Define padding for the protein embedding to ensure it has a fixed size of (1024, 1024)\n",
    "prot_padding = (0, 0, 0, 1024 - protein_emb.shape[1])\n",
    "\n",
    "# Apply padding to the SMILES embedding\n",
    "smiles_emb = torch.nn.functional.pad(smiles_emb, smiles_padding, mode='constant', value=0)\n",
    "\n",
    "# Apply padding to the protein embedding\n",
    "protein_emb = torch.nn.functional.pad(protein_emb, prot_padding, mode='constant', value=0)\n",
    "print('The shape of protein embedding is:', protein_emb.shape)\n",
    "print('The padding protein embedding is:', protein_emb)\n",
    "print('The shape of substrate embedding is', smiles_emb.shape)\n",
    "print('The padding substrate embedding is:', smiles_emb)"
   ]
  },
  {
   "cell_type": "code",
   "execution_count": 110,
   "id": "4d08cac65b84b0a8",
   "metadata": {
    "ExecuteTime": {
     "end_time": "2024-11-11T01:58:22.292584600Z",
     "start_time": "2024-11-11T01:58:22.243063900Z"
    },
    "collapsed": false
   },
   "outputs": [],
   "source": [
    "# Move the embeddings and model to the specified device (GPU)\n",
    "smiles_emb = smiles_emb.to(device).detach()\n",
    "smiles_attn_mask = smiles_attn_mask.to(device).view(1,-1)\n",
    "protein_emb = protein_emb.to(device).detach()\n",
    "protein_attn_mask = protein_attn_mask.to(device).view(1,-1)\n",
    "model = model.to(device)"
   ]
  },
  {
   "cell_type": "code",
   "execution_count": null,
   "id": "49428ea8056412c6",
   "metadata": {
    "ExecuteTime": {
     "end_time": "2024-11-11T01:59:01.586675500Z",
     "start_time": "2024-11-11T01:59:01.537111500Z"
    },
    "collapsed": false
   },
   "outputs": [
    {
     "name": "stdout",
     "output_type": "stream",
     "text": [
      "tensor([[[1.0000, 1.0000, 1.0000,  ..., 1.0000, 1.0000, 1.0000],\n",
      "         [0.0000, 0.0000, 0.0000,  ..., 0.0000, 0.0000, 1.0145],\n",
      "         [0.0000, 0.0000, 0.2833,  ..., 0.5037, 0.0000, 0.0000],\n",
      "         ...,\n",
      "         [0.0000, 0.0000, 0.0000,  ..., 0.0219, 0.0000, 0.0000],\n",
      "         [0.0000, 0.0000, 0.0000,  ..., 0.0219, 0.0000, 0.0000],\n",
      "         [0.0000, 0.0000, 0.0000,  ..., 0.0219, 0.0000, 0.0000]]],\n",
      "       device='cuda:0', grad_fn=<CatBackward0>)\n",
      "The representation of combining enzyme and substrate feature using deep learning model is: tensor([[ 3.2088e+00, -1.1962e+00, -1.2612e-01,  1.7262e+00,  3.4689e-01,\n",
      "         -7.0326e-01, -1.8986e+00, -5.2046e-01,  9.1087e-02, -1.7100e+00,\n",
      "          3.4369e-02,  5.9105e-01, -9.3731e-01,  4.8626e-01,  1.0872e+00,\n",
      "         -3.0593e-01,  2.7115e-01,  6.7930e-02,  1.4096e+00,  4.4506e-01,\n",
      "          1.4654e-01, -2.1175e-03, -9.7568e-02, -6.9953e-01, -8.8028e-01,\n",
      "          9.5413e-01,  3.4776e-01,  2.8863e-01, -2.2011e+00,  1.5324e+00,\n",
      "         -5.3525e-01,  1.9931e+00,  5.0232e-01, -2.2934e+00, -1.1219e+00,\n",
      "         -2.3938e+00, -8.3491e-03,  7.6753e-01, -1.3999e+00,  1.3830e-01,\n",
      "          1.0287e+00, -5.8703e-01,  1.8781e+00, -5.2111e-02, -2.2701e+00,\n",
      "          1.6138e-01, -4.1291e-01, -1.1761e-02,  1.1741e+00, -1.3864e+00,\n",
      "         -2.5365e+00, -7.5744e-01, -1.8241e+00,  6.2324e-01,  3.6072e-01,\n",
      "          2.3682e-01,  1.9593e+00,  2.7679e-01, -1.3834e+00, -5.1085e-01,\n",
      "          2.0032e+00,  6.1280e-02,  2.1805e-01,  3.4633e-01,  3.6065e-01,\n",
      "         -3.6740e-01, -1.4488e+00,  6.2141e-01,  6.4310e-01, -4.3978e-01,\n",
      "          8.0044e-01,  1.2172e+00, -2.0267e+00,  8.3206e-01,  2.4112e+00,\n",
      "          2.1163e-01,  6.5694e-01,  2.8920e-01,  4.9893e-01, -1.0703e-01,\n",
      "          2.2204e+00,  3.3168e-01,  4.1166e-01, -1.5802e-01,  9.1466e-02,\n",
      "          3.5205e-01,  7.7315e-01,  1.4964e+00,  4.6023e-01, -1.4322e+00,\n",
      "          3.0944e-01, -1.8232e+00,  8.5905e-01,  4.8941e-01, -1.3109e+00,\n",
      "         -1.0279e+00, -1.1505e+00,  1.6809e+00, -1.1187e+00, -7.4449e-01,\n",
      "          9.2957e-02,  6.7960e-01,  6.7628e-01, -2.6802e-01, -1.6981e+00,\n",
      "          5.2517e-01, -1.2276e+00,  1.0962e+00, -1.1173e+00,  3.5482e-01,\n",
      "          9.3412e-01, -3.6127e-01, -9.1268e-01, -1.7598e-01, -2.7396e-01,\n",
      "          1.8124e+00,  1.8500e+00,  1.6133e+00,  7.0506e-01,  2.5666e-01,\n",
      "          2.3234e-01,  7.7624e-01,  1.1278e+00,  1.3646e+00,  2.4082e-01,\n",
      "          1.7563e+00,  1.1745e+00,  1.2271e+00, -1.0709e-01, -1.4155e+00,\n",
      "          1.2163e-01,  6.4717e-01,  2.4254e+00, -4.7592e-01, -9.7115e-01,\n",
      "         -6.6273e-01,  4.7507e-01, -1.6990e-02,  1.0088e+00, -1.2341e+00,\n",
      "          8.9530e-01, -4.7037e-01, -1.2132e+00,  5.1738e-01, -3.7962e-01,\n",
      "          4.5765e-01,  7.2105e-01,  1.4634e+00, -5.1800e-01, -1.3681e+00,\n",
      "          4.4731e-01,  2.9365e-01, -7.2908e-01,  5.8830e-01,  1.2262e+00,\n",
      "          1.1074e+00, -1.5942e+00, -6.3216e-01, -2.5824e-02, -6.5376e-01,\n",
      "          1.2113e+00,  9.0744e-01, -2.9306e-01,  1.5946e+00,  1.7507e+00,\n",
      "          4.3610e-01,  4.1065e-01,  1.6741e-01,  1.1378e-01,  3.9245e-01,\n",
      "          1.8010e+00,  1.3515e+00,  6.1138e-01,  1.4910e+00,  2.2929e+00,\n",
      "          4.7417e-01, -2.8902e+00,  4.0626e-02,  3.7683e-01,  1.6320e+00,\n",
      "          4.5590e-02, -1.5806e+00, -8.8356e-01, -1.1308e+00, -1.5424e-01,\n",
      "         -7.5971e-01, -2.2477e-01, -3.6151e-01,  1.2828e+00,  3.6335e-02,\n",
      "          4.0917e-01,  8.6997e-02, -1.2966e+00, -2.2862e-02, -2.9426e-01,\n",
      "          1.1243e+00,  6.5180e-01, -1.3646e+00, -4.8723e-01, -1.2745e+00,\n",
      "         -9.6861e-01, -1.3304e-01, -3.8420e-01,  7.0036e-01, -1.2711e-01,\n",
      "         -4.6718e-01, -1.5321e+00, -1.5792e+00,  6.8970e-01,  7.4991e-01,\n",
      "          2.3505e-01,  5.1233e-01, -1.5501e+00, -3.9473e-01,  2.4866e-01,\n",
      "          8.0796e-01,  2.4032e+00,  1.1563e+00,  2.2424e+00,  4.9465e-01,\n",
      "          3.2479e-01, -4.4719e-01, -7.6457e-01,  1.2279e+00, -1.6074e+00,\n",
      "         -1.9584e-02, -5.4191e-01, -1.4096e+00, -6.7599e-03, -2.7190e-01,\n",
      "          6.5132e-01, -8.2602e-01,  7.0546e-01, -2.0974e-01,  2.4706e-01,\n",
      "          1.9702e+00,  1.2955e+00,  3.2744e-01, -1.2169e+00,  7.0145e-01,\n",
      "         -9.8691e-02,  1.0862e+00,  2.9498e+00, -6.9476e-01,  4.6494e-01,\n",
      "         -4.5267e-02,  5.2919e-01,  8.6430e-02, -3.0318e-01,  5.0476e-01,\n",
      "          9.5616e-02,  2.1089e-02,  1.0663e-01, -3.3752e-01,  2.7977e-01,\n",
      "          1.0413e-01, -3.5381e-01, -5.1470e-03,  1.0686e+00, -1.4664e+00,\n",
      "          5.2084e-01,  7.5959e-01, -2.2216e+00, -1.4687e-01,  5.5787e-01,\n",
      "          7.7580e-01,  8.9845e-01,  9.0543e-01, -1.1626e+00,  2.4822e-01,\n",
      "          1.5852e+00, -6.4417e-01, -1.1181e+00,  7.0902e-01, -2.6833e+00,\n",
      "          3.4245e-01,  2.8969e-01,  1.3320e+00, -4.5051e-01, -2.2385e-02,\n",
      "          2.0233e-01, -3.5474e-01,  1.2553e+00,  1.3556e-01,  7.2836e-01,\n",
      "         -3.7022e-01,  1.1178e+00,  3.2763e-01, -3.9747e-01, -4.6559e-01,\n",
      "          1.2759e+00, -2.6392e-01,  1.2191e+00,  1.2720e+00,  1.2919e+00,\n",
      "         -8.8529e-01, -6.4962e-01,  8.9149e-01, -2.3828e+00, -3.6579e-01,\n",
      "          2.0870e+00,  1.9848e+00,  2.0236e-01,  5.4494e-01, -4.4363e-01,\n",
      "          9.1427e-02, -1.7658e-01,  3.3518e-01, -5.3374e-01, -4.4952e-01,\n",
      "          1.7947e-01, -5.5540e-01,  3.3002e-01,  4.4054e-01, -6.4982e-01,\n",
      "          2.8887e-01,  1.0536e+00,  3.4416e-01, -2.3010e+00, -1.6690e+00,\n",
      "          1.2030e+00,  4.3234e-01, -9.9101e-01, -4.2746e-01,  1.2510e-01,\n",
      "          8.3972e-01, -8.8465e-01,  6.8718e-01,  6.2216e-01,  2.0403e+00,\n",
      "         -4.1647e-01, -4.7574e-02,  7.1913e-01,  9.6647e-01, -8.3531e-02,\n",
      "         -9.2943e-01,  1.0988e+00, -7.0340e-01,  7.5243e-01,  1.0371e+00,\n",
      "          1.0866e-01, -8.7193e-01,  3.8056e-01, -2.8617e-02,  3.8224e-01,\n",
      "         -2.6610e-01,  6.9694e-01, -1.4320e+00, -1.7889e+00,  8.8422e-01,\n",
      "         -9.5197e-02, -2.8694e-01,  4.2315e-01, -3.4741e-01, -1.7159e+00,\n",
      "          1.2989e+00,  3.9464e-01, -4.4764e-01, -1.7623e+00, -5.6629e-01,\n",
      "         -1.5661e+00, -2.0494e+00,  6.5519e-01,  2.7331e-01, -6.3359e-01,\n",
      "          1.5737e-01,  1.2773e+00, -1.6737e-01, -5.6311e-01, -9.6006e-01,\n",
      "          5.3253e-01,  2.3782e-01, -7.4624e-02, -6.3069e-03, -7.7825e-02,\n",
      "         -1.0030e+00, -4.9197e-01,  1.1918e+00, -1.0089e+00,  4.7719e-01,\n",
      "          1.2547e+00, -4.5135e-01, -7.0779e-01, -1.7979e+00, -1.6928e+00,\n",
      "          5.2307e-01, -3.1895e-01,  1.4210e+00,  6.6449e-01,  3.2963e-01,\n",
      "          1.1215e+00,  6.2184e-01, -5.0931e-01, -7.1165e-01,  8.5127e-01,\n",
      "         -1.7416e+00,  5.3615e-02,  8.1570e-01, -1.8337e+00,  1.1897e+00,\n",
      "         -4.4717e-01,  3.8817e-01,  1.0496e+00,  6.1852e-01,  1.4587e+00,\n",
      "          6.6514e-01, -7.5756e-01,  2.2464e-01,  4.3034e-01, -1.0211e+00,\n",
      "          1.4961e+00, -5.1916e-01,  1.0049e+00, -4.2117e-01, -4.2791e-01,\n",
      "          2.8573e-01, -1.0200e-01, -1.4234e+00,  8.9934e-02, -1.7942e+00,\n",
      "          8.5851e-01, -8.9681e-02,  1.1217e+00,  1.0314e+00, -7.9313e-01,\n",
      "          9.8415e-01, -1.1865e+00, -6.1871e-01,  2.3551e+00, -4.2171e-01,\n",
      "         -5.7332e-01, -2.1276e+00,  6.1367e-01,  9.1358e-01, -1.0319e+00,\n",
      "         -5.7652e-01, -1.1351e+00, -3.2959e-01, -5.3211e-01, -3.8050e-01,\n",
      "          2.3556e-01, -1.5706e-01,  3.2844e-01, -2.0273e+00,  5.5901e-01,\n",
      "         -9.6275e-01, -5.0600e-01,  7.0898e-01, -9.8676e-01, -6.5375e-01,\n",
      "          3.3726e-01, -1.3276e+00,  5.4715e-01,  7.3361e-01,  8.3668e-01,\n",
      "          3.4554e-01, -5.8077e-01, -6.8770e-01, -9.5903e-01,  5.5523e-01,\n",
      "          9.7867e-01, -5.1992e-01, -1.6687e+00,  6.1285e-01, -2.6276e-01,\n",
      "         -1.1360e+00, -2.1701e-01, -5.7597e-01, -1.1473e+00,  3.6899e-01,\n",
      "          1.1595e+00,  7.4750e-01,  8.7799e-01, -4.8185e-02,  3.1523e-01,\n",
      "          6.2620e-02, -2.2624e-01, -7.0385e-01,  8.6155e-01,  4.5858e-01,\n",
      "         -7.3457e-01, -1.7634e-01,  3.4925e-01, -1.0515e+00, -6.7884e-02,\n",
      "         -2.0066e-01, -1.3334e+00, -1.0467e+00, -2.2846e-01,  3.6897e-01,\n",
      "         -7.8951e-01, -2.3247e-01, -4.3408e-01, -1.2545e+00, -2.5244e-01,\n",
      "         -1.5704e+00, -8.4717e-01,  1.8585e+00, -1.4799e+00,  3.1058e-02,\n",
      "         -5.7891e-01,  1.7910e+00,  4.5630e-01, -2.0759e-01, -8.3699e-01,\n",
      "         -4.0875e-01,  1.7523e+00, -9.4667e-01,  8.3501e-01,  6.1109e-01,\n",
      "          2.5325e+00,  4.7983e-01, -1.3328e+00, -9.3594e-02,  8.5109e-01,\n",
      "         -1.6259e+00, -1.2562e+00, -1.2058e+00, -6.0996e-01, -4.5030e-01,\n",
      "          1.2149e-01,  9.7201e-01, -1.6257e+00,  4.2460e-02, -1.7434e-01,\n",
      "         -1.3075e+00,  4.2802e-02,  6.4621e-01, -1.7224e+00,  1.1988e+00,\n",
      "          2.6202e-01, -3.8234e-01,  1.2054e+00,  1.7744e+00, -4.6981e-01,\n",
      "         -7.9990e-01, -2.1465e+00, -1.6408e-02,  8.9991e-01,  2.2469e+00,\n",
      "         -6.2263e-01,  2.5829e-02, -4.9323e-01,  1.0238e-01,  1.9265e-01,\n",
      "          1.1922e+00, -1.7875e-01, -2.4006e-01, -5.4222e-02,  5.1043e-01,\n",
      "          3.3389e-01,  2.1639e+00, -1.1249e+00, -5.5471e-01, -1.6096e+00,\n",
      "          1.0730e+00, -1.4260e+00, -1.1881e-01, -2.6778e-01, -8.9313e-01,\n",
      "         -4.7408e-01, -3.4109e-02, -5.0291e-01, -1.2724e+00, -1.2542e+00,\n",
      "          5.7676e-01,  1.1617e-01, -3.2497e-01, -9.4605e-01, -1.7441e+00,\n",
      "         -5.9535e-02, -1.3487e+00, -2.9048e-01, -1.2397e+00, -7.4753e-02,\n",
      "         -3.9268e-01,  2.1425e+00,  8.1267e-01, -3.9261e-01, -4.3703e-01,\n",
      "          5.1901e-01,  3.1762e-01, -1.4078e+00, -4.4489e-02, -1.0122e+00,\n",
      "          8.7398e-01,  6.4056e-01, -3.3512e-01, -2.8797e-01,  1.6406e+00,\n",
      "         -5.0109e-01, -1.5625e+00,  1.8809e+00,  1.3319e-03, -1.6282e+00,\n",
      "          1.3741e+00, -1.1200e+00,  1.5286e+00,  8.7706e-01,  1.5443e+00,\n",
      "         -7.1810e-02, -5.6832e-01, -4.5784e-01,  1.2289e-01,  5.7857e-02,\n",
      "          2.2480e-01,  5.1796e-01, -8.7647e-01, -5.7721e-01,  2.3963e+00,\n",
      "          5.1868e-01, -8.0844e-01,  1.6127e+00,  3.3036e-01, -2.1652e-01,\n",
      "         -1.1296e+00, -3.4807e-01, -3.8391e-02, -6.9666e-01, -1.4491e+00,\n",
      "          7.2681e-01,  7.3932e-01, -8.5535e-01,  2.9406e+00, -9.5196e-01,\n",
      "         -7.7567e-01,  5.6343e-02, -2.6105e-01, -9.8932e-03,  3.4235e-01,\n",
      "         -4.8481e-01,  2.5407e-01,  4.0560e-01, -2.3693e+00, -1.6708e-01,\n",
      "          1.0785e+00,  1.9678e-02,  8.9759e-02,  1.1662e+00,  1.1863e+00,\n",
      "         -2.0253e-01,  3.1552e-01, -6.7719e-02,  1.6004e+00, -3.1418e-01,\n",
      "         -1.1209e+00, -6.5509e-01,  8.0203e-01,  5.9825e-01, -1.5946e+00,\n",
      "         -4.9692e-01,  3.9840e-02, -1.2617e+00, -7.3800e-01,  2.5194e+00,\n",
      "         -4.7818e-01,  1.6006e+00, -4.4357e-01, -1.2173e+00, -3.4619e-01,\n",
      "          1.3264e+00,  1.3738e+00,  9.9069e-01,  2.7037e-01,  2.6103e+00,\n",
      "          2.4404e-01, -1.5632e+00, -4.5934e-01,  9.0217e-01, -5.2846e-02,\n",
      "          2.3536e-01,  9.2794e-01,  2.8079e-01,  5.2358e-01, -2.4237e-01,\n",
      "         -3.2637e-01,  1.5357e+00,  1.9959e-01, -9.3384e-01,  1.1645e+00,\n",
      "          1.1535e+00, -4.8963e-01,  4.3465e-01, -3.0673e-01, -6.3565e-01,\n",
      "          2.8462e-01,  6.7594e-02,  1.1209e+00,  6.1709e-01, -1.5895e+00,\n",
      "          2.3935e-01,  4.2755e-01, -2.2646e-01, -8.0327e-03, -3.9854e-01,\n",
      "         -2.1711e-04,  7.6855e-01,  1.3860e+00,  9.9808e-01,  9.7937e-01,\n",
      "         -3.2762e-01, -1.2323e+00,  3.5975e-02,  4.7473e-01,  3.4082e-01,\n",
      "          1.6167e+00, -9.6562e-01, -8.8444e-01, -2.7726e-01,  1.1739e+00,\n",
      "         -4.8691e-01, -2.6582e-01, -1.4496e-01,  9.6194e-01, -2.5923e+00,\n",
      "         -1.1929e+00,  1.3601e+00,  4.6779e-01,  3.9344e-02, -1.5632e+00,\n",
      "         -6.5842e-01, -4.0785e-02, -1.5222e+00, -1.0151e+00, -2.1139e-01,\n",
      "         -1.2498e+00,  8.3802e-01, -1.7451e+00,  2.0324e-01,  9.9038e-01,\n",
      "          9.4628e-02, -5.8481e-01,  9.6294e-01, -1.9986e-01, -1.6371e+00,\n",
      "         -1.8773e+00,  5.9076e-01,  1.3047e+00, -1.1584e+00,  1.7312e-01,\n",
      "         -6.7867e-01, -4.5305e-01, -2.3954e+00,  3.5663e-01, -7.4746e-01,\n",
      "         -1.2624e+00, -7.1541e-01,  7.2825e-01, -7.2553e-01,  4.4924e-02,\n",
      "         -2.5689e-01,  6.3117e-01,  4.5679e-02,  3.9543e-01,  3.2275e-01,\n",
      "         -7.5966e-01, -2.2554e-01, -9.1995e-01, -1.4728e+00, -1.4406e+00,\n",
      "         -6.5088e-01, -7.3121e-01, -1.2943e+00, -1.2803e+00, -8.1860e-01,\n",
      "          5.2421e-01, -1.0103e+00,  5.9982e-01]], device='cuda:0',\n",
      "       grad_fn=<SliceBackward0>)\n",
      "The shape of combining feature is: torch.Size([1, 768])\n"
     ]
    }
   ],
   "source": [
    "# Using deep learning model to combine enzyme and substrate feature\n",
    "_, cls_repr = model(smiles_emb=smiles_emb,\n",
    "                                smiles_attn=smiles_attn_mask,\n",
    "                                protein_emb=protein_emb,\n",
    "                                protein_attn=protein_attn_mask,\n",
    "                                device=device,\n",
    "                                get_repr=True)\n",
    "\n",
    "print('The representation of combining enzyme and substrate feature using deep learning model is:', cls_repr)\n",
    "print('The shape of combining feature is:', cls_repr.size())"
   ]
  },
  {
   "cell_type": "markdown",
   "id": "49860ae8efadb062",
   "metadata": {
    "collapsed": false
   },
   "source": [
    "### 4.2 Training and integrated XGBoost\n",
    "- In addition to concatenating the substrate and enzyme features, we can also concatenate the enzyme, substrate, and the combined features extracted by a deep learning model. \n",
    "- Alternatively, we can directly use the extracted combined features to train a machine learning model. \n",
    "- By training three separate machine learning models—each using a different set of features (enzyme and substrate features, combined features, and all features concatenated)—we can then integrate the predictions from these models to make a more robust and accurate final prediction. This ensemble method combines the strengths of each individual model to improve overall performance."
   ]
  },
  {
   "cell_type": "code",
   "execution_count": 116,
   "id": "258d405f55fd6ebb",
   "metadata": {
    "ExecuteTime": {
     "end_time": "2024-11-11T02:26:58.675665300Z",
     "start_time": "2024-11-11T02:21:07.860353700Z"
    },
    "collapsed": false
   },
   "outputs": [],
   "source": [
    "# Load validation data\n",
    "val_cls, val_esm1b, val_smiles, val_labels = loaded_val['val_cls'], loaded_val['val_esm1b'], loaded_val['val_smiles'], loaded_val['val_labels']\n",
    "\n",
    "# Load test data\n",
    "test_cls, test_esm1b, test_smiles, test_labels, test_indices = loaded_test['test_cls'], loaded_test['test_esm1b'], loaded_test['test_smiles'], loaded_test['test_labels'], loaded_test['test_indices']\n",
    "\n",
    "# Load training data\n",
    "train_cls, train_esm1b, train_smiles, train_labels = loaded_train['train_cls'], loaded_train['train_esm1b'], loaded_train['train_smiles'], loaded_train['train_labels']\n",
    "\n",
    "############# cls token\n",
    "# Convert the training, validation, and test data for the cls token to DMatrix format for XGBoost\n",
    "dtrain_cls = xgb.DMatrix(np.array(train_cls), label=np.array(train_labels).astype(float))\n",
    "dvalid_cls = xgb.DMatrix(np.array(val_cls), label=np.array(val_labels).astype(float))\n",
    "dtest_cls = xgb.DMatrix(np.array(test_cls), label=np.array(test_labels).astype(float))\n",
    "\n",
    "# Train the XGBoost model using the cls token features\n",
    "model_cls = xgb.train(params, dtrain_cls, num_rounds)\n",
    "\n",
    "# Predict the validation set labels using the trained model\n",
    "y_val_pred_cls = model_cls.predict(dvalid_cls)\n",
    "\n",
    "############# ESM2+ChemBERTa +cls\n",
    "# Concatenate the ESM1b, ChemBERTa, and cls token features for training, validation, and test sets\n",
    "train_X_all_cls = np.concatenate([np.concatenate([train_esm1b, train_smiles], axis=1), train_cls], axis=1)\n",
    "test_X_all_cls = np.concatenate([np.concatenate([test_esm1b, test_smiles], axis=1), test_cls], axis=1)\n",
    "val_X_all_cls = np.concatenate([np.concatenate([val_esm1b, val_smiles], axis=1), val_cls], axis=1)\n",
    "\n",
    "# Convert the concatenated features to DMatrix format for XGBoost\n",
    "dtrain_all_cls = xgb.DMatrix(np.array(train_X_all_cls), label=np.array(train_labels).astype(float))\n",
    "dtest_all_cls = xgb.DMatrix(np.array(test_X_all_cls), label=np.array(test_labels).astype(float))\n",
    "dvalid_all_cls = xgb.DMatrix(np.array(val_X_all_cls), label=np.array(val_labels).astype(float))\n",
    "\n",
    "# Train the XGBoost model using the concatenated features\n",
    "model_all_cls = xgb.train(params, dtrain_all_cls, num_rounds)\n",
    "\n",
    "# Predict the validation set labels using the trained model\n",
    "y_val_pred_all_cls = model_all_cls.predict(dvalid_all_cls)"
   ]
  },
  {
   "cell_type": "code",
   "execution_count": 117,
   "id": "ece6f0a9f170eba3",
   "metadata": {
    "ExecuteTime": {
     "end_time": "2024-11-11T02:27:42.705798100Z",
     "start_time": "2024-11-11T02:26:58.674673100Z"
    },
    "collapsed": false
   },
   "outputs": [],
   "source": [
    "# Initialize the best Matthews Correlation Coefficient (MCC) and Mean Squared Error (MSE)\n",
    "best_mcc, best_mse = 0, 1000\n",
    "best_i, best_j, best_k = 0, 0, 0\n",
    "\n",
    "# Iterate over possible values of i and j (both ranging from 0 to 1 in steps of 0.01)\n",
    "for i in [k / 100 for k in range(0, 100)]:\n",
    "    for j in [k / 100 for k in range(0, 100)]:\n",
    "        # Ensure that the sum of i and j does not exceed 1\n",
    "        if i + j <= 1:\n",
    "            # Calculate the value of k such that i + j + k = 1\n",
    "            k = 1 - i - j\n",
    "            \n",
    "            # Compute the weighted prediction using the three sets of predictions\n",
    "            y_val_pred = i * y_val_pred_all_cls + j * y_val_pred_all + k * y_val_pred_cls\n",
    "            \n",
    "            # Calculate the Matthews Correlation Coefficient (MCC) for the current weighted prediction\n",
    "            mcc = matthews_corrcoef(val_labels, np.round(y_val_pred))\n",
    "            \n",
    "            # Update the best MCC and corresponding weights if the current MCC is better\n",
    "            if mcc > best_mcc:\n",
    "                best_mcc = mcc\n",
    "                best_i, best_j, best_k = i, j, k"
   ]
  },
  {
   "cell_type": "code",
   "execution_count": 118,
   "id": "90fff46f369132b8",
   "metadata": {
    "ExecuteTime": {
     "end_time": "2024-11-11T02:27:42.763051900Z",
     "start_time": "2024-11-11T02:27:42.762051300Z"
    },
    "collapsed": false
   },
   "outputs": [
    {
     "name": "stdout",
     "output_type": "stream",
     "text": [
      "Best i: 0.55, Best j: 0.45, Best k: -5.551115123125783e-17\n"
     ]
    }
   ],
   "source": [
    "print(f'Best i: {best_i}, Best j: {best_j}, Best k: {best_k}')"
   ]
  },
  {
   "cell_type": "markdown",
   "id": "a4417e10bbd1588f",
   "metadata": {
    "collapsed": false
   },
   "source": [
    "#### **Question 6** Can you indicate which type of feature had the least effect on the outcome and which had the most effect on the outcome based on the above?\n",
    "\n",
    "\n",
    "-\n",
    "___________________________________________________________________________________"
   ]
  },
  {
   "cell_type": "markdown",
   "id": "5c840ea811d59ad9",
   "metadata": {
    "collapsed": false
   },
   "source": [
    "#### **Question 7** Can you use the integration model to predict the outcome of the test set and give the accuracy, ROC curve and MCC on the test set?\n",
    "\n",
    "\n",
    "-\n",
    "___________________________________________________________________________________"
   ]
  },
  {
   "cell_type": "code",
   "execution_count": null,
   "id": "16755d4f6b31f3d9",
   "metadata": {
    "collapsed": false
   },
   "outputs": [],
   "source": []
  }
 ],
 "metadata": {
  "kernelspec": {
   "display_name": "Python 3",
   "language": "python",
   "name": "python3"
  },
  "language_info": {
   "codemirror_mode": {
    "name": "ipython",
    "version": 2
   },
   "file_extension": ".py",
   "mimetype": "text/x-python",
   "name": "python",
   "nbconvert_exporter": "python",
   "pygments_lexer": "ipython2",
   "version": "2.7.6"
  }
 },
 "nbformat": 4,
 "nbformat_minor": 5
}
