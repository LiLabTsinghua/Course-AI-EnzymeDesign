{
 "cells": [
  {
   "cell_type": "markdown",
   "id": "c293b50d469b8bb8",
   "metadata": {
    "collapsed": false
   },
   "source": [
    "### Python libraries \n",
    "Please activate the Conda environment you created in the terminal command line, and then execute the following commands **line by line** (the first command changes the default pip source to the Tsinghua mirror, which is recommended):\n",
    "```\n",
    "conda create -n class2_env python=3.8\n",
    "conda activate class2_env\n",
    "pip config set global.index-url https://pypi.tuna.tsinghua.edu.cn/simple\n",
    "pip install numpy\n",
    "pip install rdkit\n",
    "pip install ipykernel\n",
    "pip install fair-esm\n",
    "pip install matplotlib\n",
    "pip install transformers\n",
    "pip install scikit-learn\n",
    "pip install pandas\n",
    "pip install tqdm\n",
    "pip install biopython\n",
    "pip install torch==2.3.1 torchvision==0.18.1 torchaudio==2.3.1 -f https://mirrors.aliyun.com/pytorch-wheels/cu118\n",
    "pip install xgboost\n",
    "pip install hyperopt\n",
    "```"
   ]
  },
  {
   "cell_type": "markdown",
   "id": "48cdbbe73b678058",
   "metadata": {
    "collapsed": false
   },
   "source": [
    "## Small Molecule Substrates of Enzymes\n",
    "### Prediction of enzyme-substrate pairs (ESP)\n",
    "\n",
    "## The exercise today is mainly about how to train an enzyme-substrate pair prediction model and analysis, which includes:\n",
    "\n",
    "1. Data preprocessing including knowledge review of substrate and protein/enzyme embedding generation\n",
    "2. Load and clean the data of enzyme-substrate pair\n",
    "3. Train a machine learning model for enzyme-substrate pair prediction model\n",
    "4. Predict the substrate for given sequences\n",
    "\n"
   ]
  },
  {
   "cell_type": "markdown",
   "id": "37de3511ef988b09",
   "metadata": {
    "collapsed": false
   },
   "source": [
    "## 1. Data Preprocessing and Cleaning"
   ]
  },
  {
   "cell_type": "markdown",
   "id": "4feeae4ac741460a",
   "metadata": {
    "collapsed": false
   },
   "source": [
    "### 1.1 Substrate Feature Extraction (Knowledge review)<a id=\"compound-feature-extraction-methods\"></a>"
   ]
  },
  {
   "cell_type": "code",
   "execution_count": 1,
   "id": "initial_id",
   "metadata": {
    "ExecuteTime": {
     "end_time": "2024-11-12T05:54:10.898517400Z",
     "start_time": "2024-11-12T05:54:10.610615900Z"
    },
    "collapsed": true
   },
   "outputs": [
    {
     "data": {
      "image/jpeg": "[encoded data removed]",
      "image/png": "[encoded data removed]",
      "text/plain": [
       "<PIL.PngImagePlugin.PngImageFile image mode=RGB size=300x300>"
      ]
     },
     "execution_count": 1,
     "metadata": {},
     "output_type": "execute_result"
    }
   ],
   "source": [
    "# Import necessary libraries from RDKit\n",
    "from rdkit import Chem\n",
    "from rdkit.Chem import Draw\n",
    "# smiles of a molecule\n",
    "\n",
    "smiles = 'C(=CC(=O)O)C=C(C(=O)[O-])[O-]'  # SMILES for 2-Hydroxymuconate\n",
    "\n",
    "# smiles to molecule\n",
    "mol = Chem.MolFromSmiles(smiles)\n",
    "\n",
    "# visualize molecule\n",
    "Draw.MolToImage(mol)"
   ]
  },
  {
   "cell_type": "markdown",
   "id": "1830c6fecf06dbc2",
   "metadata": {
    "collapsed": false
   },
   "source": [
    "### 1.1.1 Molecular Fingerprints (Knowledge review)\n",
    "- **Definition**: A molecular fingerprint is a method of converting the structure of a molecule into a fixed-length binary vector. This vector represents the presence or absence of specific substructures or features within the molecule.\n",
    "- **Example**:\n",
    "  - **Morgan Fingerprint (ECFP)**: Extended-Connectivity Fingerprints are a type of circular fingerprint that captures the local environment of each atom in a molecule. For instance, an ECFP4 fingerprint with a radius of 2 and a bit vector length of 1024 bits can be generated using RDKit.\n",
    "  - **MACCS Keys**: MACCS (Molecular ACCess System) keys are another type of molecular fingerprint that uses a predefined set of 166 structural keys.\n",
    "  - **RDKit Example Code**:"
   ]
  },
  {
   "cell_type": "code",
   "execution_count": 2,
   "id": "e37905e36e38333",
   "metadata": {
    "ExecuteTime": {
     "end_time": "2024-11-12T05:54:13.610236800Z",
     "start_time": "2024-11-12T05:54:13.576727800Z"
    },
    "collapsed": false
   },
   "outputs": [
    {
     "name": "stdout",
     "output_type": "stream",
     "text": [
      "Fingerprint for CCO: [0 0 0 ... 0 0 0]\n",
      "Shape of fingerprint for CCO: (1024,)\n"
     ]
    },
    {
     "name": "stderr",
     "output_type": "stream",
     "text": [
      "[06:51:51] DEPRECATION WARNING: please use MorganGenerator\n"
     ]
    }
   ],
   "source": [
    "from rdkit import Chem\n",
    "from rdkit.Chem import AllChem\n",
    "import numpy as np\n",
    "\n",
    "# Load a molecule from a SMILES string\n",
    "mol = Chem.MolFromSmiles('CCO') # SMILES 'CCO' corresponds to the molecule ethanol (C2H5OH)\n",
    "\n",
    "# Generate the Morgan fingerprint\n",
    "fp1 = AllChem.GetMorganFingerprintAsBitVect(mol, 2, nBits=1024)# 2 is the radius of the fingerprint and 1024 is the length of the fingerprint\n",
    "\n",
    "# Convert to a numpy array for further processing\n",
    "fingerprint_array1 = np.array(fp1)\n",
    "print('Fingerprint for CCO:', fingerprint_array1)\n",
    "print('Shape of fingerprint for CCO:', fingerprint_array1.shape)"
   ]
  },
  {
   "cell_type": "code",
   "execution_count": 3,
   "id": "d708a0179637ae50",
   "metadata": {
    "ExecuteTime": {
     "end_time": "2024-11-12T05:54:14.714088300Z",
     "start_time": "2024-11-12T05:54:14.684573200Z"
    },
    "collapsed": false
   },
   "outputs": [
    {
     "name": "stdout",
     "output_type": "stream",
     "text": [
      "MACCS keys fingerprint for CCO: [0 0 0 0 0 0 0 0 0 0 0 0 0 0 0 0 0 0 0 0 0 0 0 0 0 0 0 0 0 0 0 0 0 0 0 0 0\n",
      " 0 0 0 0 0 0 0 0 0 0 0 0 0 0 0 0 0 0 0 0 0 0 0 0 0 0 0 0 0 0 0 0 0 0 0 0 0\n",
      " 0 0 0 0 0 0 0 0 1 0 0 0 0 0 0 0 0 0 0 0 0 0 0 0 0 0 0 0 0 0 0 0 0 0 0 1 0\n",
      " 0 0 0 1 0 0 0 0 0 0 0 0 0 0 0 0 0 0 0 0 0 0 0 0 0 0 0 0 1 0 0 0 0 0 0 0 0\n",
      " 0 0 0 0 0 1 0 1 0 1 0 0 1 0 0 0 1 0 0]\n",
      "Shape of MACCS keys fingerprint for CCO: (167,)\n"
     ]
    }
   ],
   "source": [
    "# Generate the MACCS keys\n",
    "fp2 = AllChem.GetMACCSKeysFingerprint(mol)\n",
    "fingerprint_array2 = np.array(fp2)\n",
    "print('MACCS keys fingerprint for CCO:', fingerprint_array2)\n",
    "print('Shape of MACCS keys fingerprint for CCO:', fingerprint_array2.shape)"
   ]
  },
  {
   "cell_type": "markdown",
   "id": "3031ab7a865995bc",
   "metadata": {
    "collapsed": false
   },
   "source": [
    "### 1.1.2 Substrate Pretrained Models\n",
    "- **Definition**: Substrate language models, such as ChemBERTa, are pre-trained deep learning models that can encode substrate sequences into numerical representations.  These models capture the contextual information and structural properties of the molecules in the substrate sequence.\n",
    "There are many pretrained models for compounds, if you are interested, please check [this github repo](https://github.com/junxia97/awesome-pretrain-on-molecules) for further information. \n",
    "- **Example**:\n",
    "Here we will use one of them [ChemBERTa](https://arxiv.org/abs/2010.09885) as one example:\n",
    "The ChemBERTa-77M-MTR model was pretrained on a dataset containing 77M unique SMILES.\n",
    "ChemBERTa-77M-MTR accepts SMILES of molecules as input and generates embedding vectors of the input SMILES, which can be used for a variety of downstream tasks including molecular property prediction, which is used for predicting a variety of physicochemical properties of a molecule, and drug-drug interactions, among others."
   ]
  },
  {
   "cell_type": "code",
   "execution_count": null,
   "id": "2b73dcecb567336a",
   "metadata": {
    "ExecuteTime": {
     "end_time": "2024-11-12T05:55:30.922487100Z",
     "start_time": "2024-11-12T05:55:30.878791800Z"
    },
    "collapsed": false
   },
   "outputs": [],
   "source": [
    "from transformers import AutoTokenizer, AutoModelForMaskedLM\n",
    "import warnings\n",
    "\n",
    "warnings.filterwarnings(\"ignore\")\n",
    "\n",
    "# Define the path to the pre-trained ChemBERTa model\n",
    "SMILES_BERT = \"/data/home/jiahao/class2/ChemBERTa-77M-MTR\"\n",
    "\n",
    "# Initialize an empty dictionary to store SMILES representations\n",
    "smiles_reprs = {}\n",
    "\n",
    "# Load the tokenizer for the pre-trained ChemBERTa model\n",
    "smiles_tokenizer = AutoTokenizer.from_pretrained(SMILES_BERT)\n",
    "\n",
    "# Load the pre-trained ChemBERTa model for masked language modeling\n",
    "smiles_bert = AutoModelForMaskedLM.from_pretrained(SMILES_BERT)"
   ]
  },
  {
   "cell_type": "code",
   "execution_count": 5,
   "id": "dd970f4709a9f53",
   "metadata": {
    "ExecuteTime": {
     "end_time": "2024-11-12T05:55:44.196918800Z",
     "start_time": "2024-11-12T05:55:44.129885300Z"
    },
    "collapsed": false
   },
   "outputs": [],
   "source": [
    "# Input SMILES and generate embedding vectors of the input SMILES.\n",
    "def get_last_layer_repr(smiles):\n",
    "    \"\"\"\n",
    "    Function to get the last layer representation (logits) of a given SMILES string using the pre-trained ChemBERTa model.\n",
    "    \n",
    "    Args:\n",
    "    - smiles (str): The SMILES string for which to obtain the representation.\n",
    "    \n",
    "    Returns:\n",
    "    - last_layer_repr (torch.Tensor): The logits (last layer representation) of the SMILES string.\n",
    "    \"\"\"\n",
    "    \n",
    "    # Use the predefined tokenizer\n",
    "    tokenizer = smiles_tokenizer\n",
    "    \n",
    "    # Use the predefined model\n",
    "    model = smiles_bert\n",
    "    \n",
    "    # Freeze the model parameters to prevent backpropagation\n",
    "    for param in model.parameters():\n",
    "        param.requires_grad = False\n",
    "    \n",
    "    # Move the model to the CPU\n",
    "    model = model.to('cpu')\n",
    "    \n",
    "    # Set the model to evaluation mode\n",
    "    model.eval()\n",
    "    \n",
    "    # Define the key to extract the logits from the model output\n",
    "    key = \"logits\"\n",
    "    \n",
    "    # Define the maximum length for tokenization\n",
    "    max_length = 500\n",
    "    \n",
    "    # Tokenize the SMILES string\n",
    "    tokens = tokenizer(\n",
    "        smiles,\n",
    "        max_length=max_length,\n",
    "        padding=True,\n",
    "        truncation=True,\n",
    "        return_tensors=\"pt\"\n",
    "    )\n",
    "    \n",
    "    # Get the last layer representation (logits) by passing the tokenized input through the model\n",
    "    last_layer_repr = model(**tokens)[key]\n",
    "    \n",
    "    # Return the last layer representation\n",
    "    return last_layer_repr"
   ]
  },
  {
   "cell_type": "code",
   "execution_count": 6,
   "id": "8bba24c2e22cddb9",
   "metadata": {
    "ExecuteTime": {
     "end_time": "2024-11-12T05:55:45.661379800Z",
     "start_time": "2024-11-12T05:55:45.328559400Z"
    },
    "collapsed": false
   },
   "outputs": [
    {
     "name": "stdout",
     "output_type": "stream",
     "text": [
      "Representation of O=C2CCC2CC: tensor([[[ 0.0048,  0.0000,  0.3266,  ...,  0.3541,  0.8186,  0.3482],\n",
      "         [ 1.5164,  0.0000, -0.0092,  ...,  0.1795,  0.5670,  0.2165],\n",
      "         [ 1.5115,  0.0000, -0.0049,  ...,  0.1796,  0.5666,  0.2165],\n",
      "         ...,\n",
      "         [ 1.4013,  0.0000,  0.1335,  ...,  0.1943,  0.5182,  0.1489],\n",
      "         [ 1.4157,  0.0000,  0.1311,  ...,  0.1816,  0.5249,  0.1419],\n",
      "         [ 1.3734,  0.0000,  0.0209,  ...,  0.1812,  0.7134,  0.2461]]])\n"
     ]
    }
   ],
   "source": [
    "# This is one example of how we can use the ChemBERTa to generate embedding represention of the molecule 2-Ethylcyclobutanone, O=C2CCC2CC is inputted using its SMILES.\n",
    "last_layer_repr = get_last_layer_repr('O=C2CCC2CC')\n",
    "print('Representation of O=C2CCC2CC:', last_layer_repr)"
   ]
  },
  {
   "cell_type": "markdown",
   "id": "92218540",
   "metadata": {},
   "source": [
    "### Question 1 Could you generate the ChemBERTa embedding for ethanol? You need to find the SMILES of ethanol by yourself and then using code to generate embeding"
   ]
  },
  {
   "cell_type": "code",
   "execution_count": 7,
   "id": "1aa35471",
   "metadata": {},
   "outputs": [],
   "source": [
    "# type your code here"
   ]
  },
  {
   "cell_type": "markdown",
   "id": "3cad6e23561fe5ea",
   "metadata": {
    "collapsed": false
   },
   "source": [
    "## 1.2 Protein Sequence Feature Extraction (Knowledge review)\n",
    "### 1.2.1 Protein Language Models\n",
    "- **Definition**: Protein language models, such as ESM2 (Evolutionary Scale Modeling 2), are pre-trained deep learning models that can encode protein sequences into numerical representations. These models capture the contextual information and structural properties of amino acids in the sequence.\n",
    "- There are different variants of ESM2 with parameter counts ranging from 35M to 15B. Among them, the commonly used ESM2-T33-650M_UR50D model has about 650 million parameters.\n",
    "- ESM2 was pretrained on large-scale protein sequence databases, including UniRef50 (a non-redundant protein sequence database containing 50% sequence identity) and other publicly available protein sequence datasets.\n",
    "- ESM2 accepts protein sequences ESM2 accepts as input protein sequences, typically represented as one-dimensional sequences of amino acids, and the model generates embedding vectors for each position, which can be used for a variety of downstream tasks.\n",
    "- **Example**:\n",
    "\n",
    "   - if the download is slow, you can download the model from https://dl.fbaipublicfiles.com/fair-esm/models/esm2_t6_8M_UR50D.pt and put it in /data/home/{yourusername}/.cache/torch/hub/checkpoints/ \n"
   ]
  },
  {
   "cell_type": "code",
   "execution_count": 8,
   "id": "199192e38a6b8062",
   "metadata": {
    "ExecuteTime": {
     "end_time": "2024-11-12T05:56:06.052903700Z",
     "start_time": "2024-11-12T05:55:54.884408700Z"
    },
    "collapsed": false
   },
   "outputs": [
    {
     "name": "stdout",
     "output_type": "stream",
     "text": [
      "Encoded representations shape: torch.Size([1, 60, 1280])\n",
      "Encoded representations: tensor([[[ 0.0758,  0.0112,  0.0675,  ..., -0.2298,  0.1255, -0.0867],\n",
      "         [-0.0311,  0.0249,  0.0155,  ...,  0.0558, -0.0818,  0.0376],\n",
      "         [ 0.0782,  0.0190,  0.0347,  ...,  0.2752, -0.1195,  0.0635],\n",
      "         ...,\n",
      "         [-0.0699,  0.1458,  0.0085,  ...,  0.1276,  0.0031,  0.2516],\n",
      "         [ 0.0344,  0.1352, -0.0007,  ..., -0.0695, -0.0423,  0.3213],\n",
      "         [ 0.1390, -0.0400,  0.1007,  ..., -0.1855,  0.1290, -0.0746]]],\n",
      "       device='cuda:0')\n"
     ]
    }
   ],
   "source": [
    "import torch\n",
    "import esm\n",
    "# ESM accepts the protein sequence as input, generates an embedding vector for each position and outputs it.\n",
    "def esm_method(sequence):\n",
    "    # Determine the device to use (GPU if available, otherwise CPU)\n",
    "    device = torch.device(\"cuda\" if torch.cuda.is_available() else \"cpu\")\n",
    "\n",
    "    # Load the pre-trained ESM model and its alphabet\n",
    "    model, alphabet = esm.pretrained.load_model_and_alphabet('/data/home/jiahao/class2/esm2_t33_650M_UR50D.pt')\n",
    "    model = model.to(device)  # Move the model to the specified device\n",
    "    model.eval()  # Set the model to evaluation mode\n",
    "\n",
    "    # Encode the input sequence into token IDs\n",
    "    token_ids = torch.tensor([alphabet.encode(sequence)], device=device)\n",
    "\n",
    "    # Forward pass through the model without gradient calculation\n",
    "    with torch.no_grad():\n",
    "        results = model(token_ids, repr_layers=[33])  # Get the output of the last layer (layer 33)\n",
    "        token_embeddings = results[\"representations\"][33]  # Extract the token embeddings from the results\n",
    "\n",
    "    # Calculate the mean embedding for the entire sequence (optional)\n",
    "    # token_embeddings = token_embeddings.mean(dim=1)\n",
    "    \n",
    "    return token_embeddings\n",
    "\n",
    "# Example usage\n",
    "protein_sequence = \"MKWVTFISLLFLFSSAYSAAAAAAAAAAAAAAAAAAAAAAAAAAAAAAAAAAAAAAAAAA\"\n",
    "protein_emb_esm = esm_method(protein_sequence)\n",
    "\n",
    "# Print the shape and the encoded representations\n",
    "print(\"Encoded representations shape:\", protein_emb_esm.shape)\n",
    "print(\"Encoded representations:\", protein_emb_esm)"
   ]
  },
  {
   "cell_type": "markdown",
   "id": "b35547c09d85e2c6",
   "metadata": {
    "collapsed": false
   },
   "source": [
    " - **Explanation**:\n",
    "    - **Tokenization**: The sequence is tokenized using the ESM2 tokenizer, which converts the amino acid sequence into a format that the model can process.\n",
    "    - **Model Output**: The model processes the tokenized sequence and produces embeddings. The `last_hidden_state` contains the contextualized embeddings for each amino acid in the sequence.\n",
    "    - **Embedding Shape**: The embeddings have a shape of `[1, sequence_length, embedding_dim]`. For example, if the sequence length is 60 and the embedding dimension is 320, the shape will be `[1, 60, 320]`."
   ]
  },
  {
   "cell_type": "markdown",
   "id": "82518f1c",
   "metadata": {},
   "source": [
    "### Question 2 Please use ESM2 to generate embedding for ADH1 of S. cerevisiae, you need to find the sequence by yourself, and then use ESM2 to generate embeeding for that sequence.\n"
   ]
  },
  {
   "cell_type": "code",
   "execution_count": 9,
   "id": "6ac52c3f",
   "metadata": {},
   "outputs": [],
   "source": [
    "# Type your code here"
   ]
  },
  {
   "cell_type": "markdown",
   "id": "d96e432053280a1c",
   "metadata": {
    "collapsed": false
   },
   "source": [
    "## 2. Prediction of enzyme substrates\n",
    "![ESP](./ESP_model.png)\n",
    "Protein sequence features were extracted using ESM2 and substrate features were extracted using ChemBERTa, and the combination of the two features was input into the XGBoost machine learning model to determine whether the enzyme could catalyze the substrate.\n",
    "### 2.1 Combination of enzyme features and substrate features.\n",
    "Load the preprocessed training, validation, and test set data. The data includes enzyme embeddings processed using the ESM2 model, SMILES features extracted using the ChemBERTa model, the labels of the data, and embeddings combining enzyme features and substrate features using a deep learning model."
   ]
  },
  {
   "cell_type": "code",
   "execution_count": 10,
   "id": "1a2823eb081e101b",
   "metadata": {
    "ExecuteTime": {
     "end_time": "2024-11-12T02:23:09.815608900Z",
     "start_time": "2024-11-12T02:23:09.246976200Z"
    },
    "collapsed": false
   },
   "outputs": [],
   "source": [
    "# load the xgboost module \n",
    "import xgboost as xgb\n",
    "\n",
    "# Load ADH data, the data is splitted into train, validation and test.\n",
    "# Load validation dataset\n",
    "loaded_val = np.load('/data/home/jiahao/class2/val_array_adh.npz')\n",
    "# Unpack the validation dataset\n",
    "_, val_esm2, val_smiles, val_labels = loaded_val['val_cls'], loaded_val['val_esm1b'], loaded_val['val_smiles'], loaded_val['val_labels']\n",
    "\n",
    "# Load test dataset\n",
    "loaded_test = np.load('/data/home/jiahao/class2/test_array_adh.npz')\n",
    "# Unpack the test dataset\n",
    "_, test_esm2, test_smiles, test_labels, test_indices = loaded_test['test_cls'], loaded_test['test_esm1b'], loaded_test['test_smiles'], loaded_test['test_labels'], loaded_test['test_indices']\n",
    "\n",
    "# Load training dataset\n",
    "loaded_train = np.load('/data/home/jiahao/class2/train_array_adh.npz')\n",
    "# Unpack the training dataset\n",
    "_, train_esm2, train_smiles, train_labels = loaded_train['train_cls'], loaded_train['train_esm1b'], loaded_train['train_smiles'], loaded_train['train_labels']\n"
   ]
  },
  {
   "cell_type": "code",
   "execution_count": 11,
   "id": "76bfd09affe1dd89",
   "metadata": {
    "ExecuteTime": {
     "end_time": "2024-11-12T02:33:11.750421600Z",
     "start_time": "2024-11-12T02:33:11.705917200Z"
    },
    "collapsed": false
   },
   "outputs": [
    {
     "name": "stdout",
     "output_type": "stream",
     "text": [
      "Training set contains 51164 data.\n",
      "Test set contains 13336 data.\n",
      "Validation set contains 5422 data.\n"
     ]
    }
   ],
   "source": [
    "print('Training set contains', len(train_labels), 'data.')\n",
    "print('Test set contains', len(test_labels), 'data.')\n",
    "print('Validation set contains', len(val_labels), 'data.')"
   ]
  },
  {
   "cell_type": "code",
   "execution_count": 12,
   "id": "edf9721f630c59a4",
   "metadata": {
    "collapsed": false
   },
   "outputs": [
    {
     "name": "stdout",
     "output_type": "stream",
     "text": [
      "SMILES embedding of the first data. [-6.58703148e-01  0.00000000e+00  4.92275745e-01 -3.37448686e-01\n",
      "  1.33677259e-01  4.46715027e-01 -2.08731717e-03 -1.12427413e-01\n",
      "  3.63942459e-02  1.59979895e-01 -9.44294035e-02 -4.83360291e-02\n",
      "  1.21001564e-01 -8.67545530e-02 -7.79343098e-02  1.14882431e+01\n",
      "  7.31103420e-01  5.59065044e-01 -5.15613377e-01 -2.83152032e+00\n",
      "  6.19573641e+00  2.71338153e+00 -6.07754469e-01  2.57478380e+00\n",
      " -1.96370870e-01  5.66997719e+00  6.81377268e+00 -4.76186812e-01\n",
      " -9.05584842e-02  2.22091600e-01 -2.28155963e-02 -3.93119144e+00\n",
      "  3.96524620e+00  2.03030482e-01 -1.05260611e+01 -6.58444762e-02\n",
      " -1.21796660e-01 -5.39377511e-01 -2.72366071e+00 -4.88592535e-01\n",
      " -2.74912417e-01  6.58031583e-01  2.23163986e+00 -8.42200667e-02\n",
      " -6.39126492e+00 -7.53960609e+00 -6.21180572e-02 -4.89839837e-02\n",
      " -3.59951282e+00  8.49522874e-02 -6.70840085e-01  3.72682303e-01\n",
      " -1.20020784e-01 -7.44942069e-01  4.66256475e+00  3.19948830e-02\n",
      " -2.11334184e-01  1.51097789e-01  1.99396491e+00  1.54492065e-01\n",
      "  1.11790113e-02  7.19251633e-02 -3.85897040e-01 -3.87209840e-02\n",
      " -4.72884566e-01  1.04022644e-01  6.98555589e-01 -5.17697632e-01\n",
      "  1.58872485e-01  2.78730989e-01  2.86921352e-01  3.10873151e-01\n",
      " -3.98750901e-01 -1.02746949e-01 -7.34378248e-02  4.53411520e-01\n",
      " -1.69853795e+00 -1.31560594e-01  5.04225671e-01  4.85605568e-01\n",
      "  4.07836348e-01 -5.68659186e-01  2.85342723e-01 -4.13379908e-01\n",
      " -1.99514687e-01  8.26721430e-01 -6.53828025e-01  1.45434653e-02\n",
      "  2.72940332e-03  2.61610895e-01 -5.51861584e-01 -4.14507717e-01\n",
      "  3.61748725e-01 -4.34719235e-01  2.96737980e-02 -3.69850695e-01\n",
      "  1.81266814e-01 -2.70628214e-01  1.08477734e-01 -7.58890867e-01\n",
      "  5.38997114e-01  1.51139563e-02  9.05433763e-03 -5.06971478e-01\n",
      "  2.59631217e-01 -2.03935236e-01 -2.07130015e-01 -4.24128294e-01\n",
      "  1.43141635e-02 -3.14095706e-01 -5.84992673e-03  7.53816590e-02\n",
      " -8.50163758e-01  2.46269122e-01  3.09612811e-01  3.74331474e-02\n",
      "  7.37937450e-01 -1.31066948e-01  2.10603308e-02  2.71217804e-02\n",
      " -1.17272452e-01 -1.67423546e-01  2.65955746e-01 -4.79968786e-01\n",
      " -4.00306034e+00 -2.90715516e-01 -3.04694474e-02  2.92637914e-01\n",
      "  1.06361210e-01  5.89916468e-01 -2.21462518e-01  4.96075779e-01\n",
      " -4.20652807e-01  6.51024356e-02  3.33445042e-01 -1.23792067e-01\n",
      " -3.28726262e-01  3.24692547e-01 -4.83386070e-01  1.53261095e-01\n",
      " -6.43350661e-01  1.58607550e-02 -5.01968086e-01  4.82921988e-01\n",
      " -9.23647404e-01  8.23658034e-02  7.85170775e-03 -2.56005049e-01\n",
      " -5.90526965e-03  1.25865966e-01 -5.16914785e-01  1.02323070e-01\n",
      " -1.11190744e-01 -2.87501991e-01  1.35082200e-01  3.27982366e-01\n",
      "  3.98227811e-01 -6.74524724e-01 -7.37905689e-03 -1.46337137e-01\n",
      "  3.61818224e-01 -4.25325986e-03 -3.47510844e-01 -4.99037504e-01\n",
      " -6.62062466e-01 -3.17442507e-01 -1.81523666e-01  2.38051191e-01\n",
      "  2.28467807e-01  4.51069206e-01  1.78295344e-01 -1.43269658e-01\n",
      "  2.52862513e-01  5.49208343e-01  6.66467622e-02 -4.54631865e-01\n",
      "  4.45360988e-01  4.98436987e-01 -3.52765203e-01 -2.89212335e-02\n",
      " -3.10873032e-01 -7.88087428e-01  7.41949379e-01  3.79258633e-01\n",
      "  2.74319410e-01  4.49520722e-02 -8.75109792e-01 -3.53327058e-02\n",
      " -3.59384000e-01 -1.62155107e-01 -3.08277495e-02 -1.02229752e-01\n",
      " -2.21905291e-01  2.50240177e-01 -2.30127692e-01 -5.22394240e-01\n",
      "  2.58832276e-01 -3.72554332e-01  3.57181281e-01 -3.58234905e-02\n",
      " -5.42705357e-01 -3.11570913e-01 -5.06526679e-02  2.26298720e-01\n",
      "  1.76422790e-01  1.24693418e+00 -3.79959202e+00 -2.23604858e-01\n",
      " -1.43599227e-01  7.37373205e-03  1.07456088e-01  3.89537103e-02\n",
      " -1.02135591e-01 -5.05261242e-01  3.36144753e-02  4.68367606e-01\n",
      "  1.07803397e-01 -3.24663192e-01  3.44013214e-01  4.03097540e-01\n",
      "  3.31796020e-01 -6.89521432e-01  2.64043093e-01  5.71141601e-01\n",
      " -1.99081212e-01  5.09239137e-01 -6.33578598e-01  1.79467082e-01\n",
      " -9.27650705e-02 -3.27547342e-02  1.50708377e-01  5.63843369e-01\n",
      "  9.26298022e-01 -3.87462735e-01  1.09548427e-01 -4.08481210e-01\n",
      "  7.06488565e-02 -4.16159153e-01  4.10488278e-01  5.18781602e-01\n",
      "  2.81324327e-01 -2.48935282e-01 -2.71163553e-01  5.68484031e-02\n",
      " -3.24906588e-01  5.34337401e-01  5.57012856e-02 -6.77233860e-02\n",
      "  2.95083910e-01 -3.42277527e-01  1.22297749e-01  5.84563494e-01\n",
      "  1.59379974e-01  1.85928851e-01  4.61578369e-01  7.89037824e-01\n",
      "  6.97498769e-02  7.93251842e-02  2.68445313e-01 -5.87309524e-02\n",
      " -9.54800174e-02  6.52645575e-03  5.13546288e-01 -3.10422897e-01\n",
      "  1.29224524e-01 -5.13319731e-01  7.76315391e-01 -2.28961453e-01\n",
      "  2.14810297e-01 -3.24566185e-01 -5.19792497e-01  5.78469224e-02\n",
      " -2.54675984e-01 -2.51211196e-01 -3.57353568e-01 -2.62465119e-01\n",
      " -2.94802375e-02 -4.28995863e-02  3.08998674e-01  5.32737434e-01\n",
      "  9.82297599e-01 -2.26063371e-01  8.84359062e-04 -3.97806875e-02\n",
      " -5.61954260e-01  9.81187597e-02  2.30302781e-01  4.81094010e-02\n",
      " -1.67589575e-01 -1.13625817e-01 -2.52435654e-01  3.15270841e-01\n",
      "  6.49299204e-01  2.83346117e-01 -6.99672028e-02  6.62496164e-02\n",
      "  7.74484426e-02  9.41625908e-02  3.52991700e-01  1.09069347e-01\n",
      "  9.48458463e-02  9.05594379e-02  5.51244020e-01 -2.97274385e-02\n",
      "  3.83896858e-01  3.80037814e-01  2.70584583e-01  5.27318893e-03\n",
      " -2.32703283e-01 -2.38648891e-01 -1.13037840e-01 -3.94140892e-02\n",
      " -2.56066710e-01  6.20548606e-01  5.27271092e-01  8.12680833e-03\n",
      "  1.24136738e-01  5.08934222e-02  6.12934411e-01 -5.87943017e-01\n",
      "  1.70942619e-01  2.28180707e-01  1.91750541e-01  5.97369313e-01\n",
      " -2.59774216e-02  7.46625587e-02  1.26216337e-01 -1.02178776e+00\n",
      "  5.87946177e-01 -5.12366474e-01  1.15833566e-01  5.00632562e-02\n",
      " -4.86177728e-02 -8.09625745e-01 -6.01156890e-01 -5.92215538e-01\n",
      " -5.98952591e-01  7.50452995e-01  1.57617241e-01  6.40630245e-01\n",
      " -4.69189674e-01 -6.47867844e-02 -1.20095834e-01 -8.34249079e-01\n",
      "  1.68888956e-01 -3.83000314e-01 -2.33359814e-01 -2.27539912e-01\n",
      "  5.55263013e-02  3.09127092e-01  4.05810773e-02  1.13397971e-01\n",
      " -2.76950866e-01 -1.12797342e-01  2.34346449e-01  4.07696575e-01\n",
      "  6.16144249e-03  2.88489491e-01 -2.53751725e-01 -8.12286496e-01\n",
      "  1.00264408e-01  4.00239378e-01  1.20515622e-01  1.21115386e-01\n",
      " -1.37563393e-01 -6.36456609e-02 -1.03691798e-02 -5.48877776e-01\n",
      " -3.65622938e-01  2.07725361e-01 -7.31375635e-01  3.06406438e-01\n",
      " -1.41853407e-01 -1.90756857e-01  3.86545956e-02  1.52573094e-01\n",
      "  3.50854933e-01  1.18908179e+00  3.36970717e-01 -1.39941365e-01\n",
      " -1.10291146e-01  1.72205850e-01  3.30935150e-01  4.93127942e-01\n",
      "  4.59680110e-01  2.61571914e-01 -3.02453250e-01  5.07612586e-01\n",
      " -5.36758125e-01  2.88123749e-02  5.13824105e-01  6.13610744e-01\n",
      " -4.27233726e-01 -5.37346303e-01  8.33769977e-01 -3.28081131e-01\n",
      " -5.35099506e-01 -3.90586615e-01 -1.30691692e-01  1.65594384e-01\n",
      "  1.38193429e-01  3.29572618e-01  9.71888959e-01  7.30470598e-01\n",
      "  4.23368275e-01  1.89529240e-01  4.38014418e-01 -7.45805204e-01\n",
      " -4.29389209e-01  4.09132421e-01 -3.33507800e+00  1.60974532e-01\n",
      " -7.34115615e-02 -5.82606316e-01 -3.82702172e-01 -2.29073651e-02\n",
      " -6.31363764e-02  1.49996668e-01  7.56546855e-01  2.73114830e-01\n",
      "  4.34257686e-02  7.82220721e-01  3.31233084e-01 -4.54619825e-01\n",
      "  4.37810659e-01 -3.03672224e-01 -2.16390505e-01 -1.17469549e-01\n",
      "  6.09618485e-01  4.42001700e-01 -1.75977424e-01 -1.76984578e-01\n",
      "  2.44924165e-02 -3.04422498e-01 -1.68791160e-01  1.34599403e-01\n",
      "  2.07573995e-01 -1.64367631e-01  3.41353655e-01 -2.44150519e-01\n",
      "  6.94244385e-01 -1.93251595e-01 -3.82071674e-01  6.68888450e-01\n",
      " -6.83718324e-02  6.46413192e-02  2.32942104e-01 -5.69836497e-02\n",
      " -2.35687807e-01 -1.11648001e-01  4.28113699e-01 -2.74062842e-01\n",
      "  5.17529428e-01  6.66074902e-02  1.43357083e-01  4.95853156e-01\n",
      " -6.64846778e-01  5.17204776e-02 -1.05487943e-01 -2.71468490e-01\n",
      " -2.77161539e-01  2.48094320e-01  6.57463893e-02  8.85131001e-01\n",
      "  5.78252316e-01 -4.44764286e-01  3.96140248e-01  1.01591277e+00\n",
      " -4.14942026e-01  3.86381298e-01  5.83043933e-01 -1.34109199e-01\n",
      " -4.56069298e-02  4.43811305e-02  6.33843482e-01 -3.24351564e-02\n",
      "  1.66965067e-01  4.64357793e-01  5.20154893e-01 -2.14631289e-01\n",
      " -4.71852608e-02 -3.36516351e-01  2.03118354e-01  5.34066856e-01\n",
      " -1.18650496e-01  1.09272890e-01  5.47059663e-02 -5.06551027e-01\n",
      " -2.06367388e-01  6.51763797e-01  4.92423743e-01  4.18809503e-01\n",
      "  1.74887806e-01 -3.19141448e-02 -1.14604361e-01 -4.33618009e-01\n",
      " -2.85308331e-01  2.12765813e-01 -8.14942241e-01 -9.35342133e-01\n",
      " -1.36318998e-02 -5.95192254e-01  1.48507774e-01 -2.54730135e-01\n",
      "  3.61748904e-01  6.08570814e-01 -5.71543634e-01  2.06681401e-01\n",
      "  6.05660319e-01  1.73267335e-01 -4.46859561e-02  2.52349079e-02\n",
      "  6.07622206e-01  1.11702882e-01 -2.25341991e-01 -1.75048858e-02\n",
      " -3.88759345e-01 -4.46908802e-01 -3.83102775e-01  2.06889048e-01\n",
      " -6.95114210e-02 -4.20033485e-01  6.38405681e-02 -2.42673695e-01\n",
      " -1.63434461e-01  2.71230429e-01  1.02185547e-01  1.53245613e-01\n",
      " -6.40353113e-02  8.05034563e-02 -3.77773345e-01  3.14469874e-01\n",
      " -1.24386154e-01 -8.23468685e-01 -2.86777854e-01 -1.55213624e-01\n",
      "  2.51791507e-01  1.22497663e-01  3.27985406e-01 -2.41280999e-02\n",
      "  4.13504004e-01 -5.67243733e-02  3.37522142e-02  3.07491928e-01\n",
      " -1.80068500e-02 -6.44496968e-03  5.31427801e-01 -7.86595464e-01\n",
      "  5.91313422e-01  2.96736747e-01 -6.50956452e-01 -3.88633937e-01\n",
      "  7.49957003e-03 -1.48532563e-03  1.33678511e-01  1.32451594e-01\n",
      "  4.19414550e-01  9.70583782e-02 -2.15462878e-01  3.25791597e-01\n",
      "  1.57250047e-01  6.32382274e-01  6.31173611e-01 -2.24350721e-01\n",
      " -6.70406044e-01  1.05355084e-01 -1.70841441e-01 -2.82873452e-01\n",
      "  3.46292078e-01 -4.37368572e-01 -1.80190518e-01  1.07838348e-01\n",
      "  8.12977850e-02 -2.45911986e-01 -5.28063953e-01 -3.89529824e-01\n",
      " -6.13049686e-01 -3.14721912e-01 -2.44305000e-01 -1.45625234e-01\n",
      "  3.69387060e-01  3.70341986e-01 -3.78390342e-01  3.20538193e-01\n",
      "  5.29949367e-01 -1.51371107e-01 -1.14711858e-02 -1.99610636e-01\n",
      " -5.18608510e-01 -2.89058268e-01  2.14836359e-01 -6.19305789e-01\n",
      " -1.82960957e-01 -4.91467603e-02  2.32532606e-01  4.58207160e-01\n",
      " -1.62631735e-01  1.15487128e-01 -2.03058839e-01  2.07786709e-01]\n",
      "Protein embedding of the first data. [-0.01327768  0.21892612 -0.04049454 ... -0.05318358 -0.05968493\n",
      "  0.15980639]\n",
      "Training set label: [0. 1. 1. ... 0. 1. 0.]\n"
     ]
    }
   ],
   "source": [
    "print('SMILES embedding of the first data.', train_smiles[0])\n",
    "print('Protein embedding of the first data.', train_esm2[0])\n",
    "# Label 1 means that the enzyme can catalyze the substrate and label 0 means that the enzyme cannot catalyze the substrate.\n",
    "print('Training set label:', train_labels)"
   ]
  },
  {
   "cell_type": "code",
   "execution_count": 13,
   "id": "c4385a8e",
   "metadata": {
    "ExecuteTime": {
     "end_time": "2024-11-12T06:37:06.471357Z",
     "start_time": "2024-11-12T06:37:06.203470200Z"
    }
   },
   "outputs": [
    {
     "name": "stdout",
     "output_type": "stream",
     "text": [
      "Head of data    Uniprot ID  molecule ID  output  \\\n",
      "0      Q5B2F7  CHEBI:57344       1   \n",
      "1      Q9SAH9  CHEBI:58349       1   \n",
      "2      Q8IPJ6  CHEBI:57776       1   \n",
      "3  A0A1D5PCZ1       C00002       1   \n",
      "4      O22765  CHEBI:33384       1   \n",
      "\n",
      "                                    Protein sequence  \\\n",
      "0  MQNSTKTVRIVEVGPRDGLQNIPQSIDSTIKLDLIRRLRDAGLQTI...   \n",
      "1  MLVDGKLVCVTGAGGYIASWIVKLLLERGYTVRGTVRNPTDPKNNH...   \n",
      "2  MTDYLSLHSRLAQVGQEHLLKFWPELTNDERIDLVRDIEELNLDEI...   \n",
      "3  MAEPPAAPGPEGEEGPVRFARKGALRQKNVHEVKNHKFTARFFKQP...   \n",
      "4  MDLLKTPSSTVGLSETFARLKSQGKVALIPYITAGDPDLSTTAKAL...   \n",
      "\n",
      "                                              SMILES  \n",
      "0  CC(C)=CC(=O)SCCN=C([O-])CCN=C([O-])[C@H](O)C(C...  \n",
      "1  N=C([O-])c1ccc[n+]([C@@H]2O[C@H](COP(=O)(O)OP(...  \n",
      "2  CC([O-])=N[C@H]1[C@@H](OP(=O)([O-])O)O[C@H](CO...  \n",
      "3  Nc1ncnc2c1ncn2[C@@H]1O[C@H](COP(=O)(O)OP(=O)(O...  \n",
      "4                                  N[C@@H](CO)C(=O)O  \n"
     ]
    }
   ],
   "source": [
    "# Then we will use ChemBERTa and ESM1b to generate embeddings for all substrates and enzymes. Due to the time and computational cost, we have precomputated the embeddings.\n",
    "import pandas as pd\n",
    "df = pd.read_csv('ESP_training_dataset.csv')\n",
    "df = df[df['output']==1]\n",
    "print('Head of data', df.head())\n"
   ]
  },
  {
   "cell_type": "markdown",
   "id": "ed288916",
   "metadata": {},
   "source": [
    "### Question 3: It is crucial to verify the accuracy of the loaded data. Please check the printed entry in the next box. Visit the UniProt database to confirm that one of the entries is correct. You are given the sequence, go to UniProt/NCBI database to find the ID, and go to PubChem database to use its SMILES to find the substrate name, and visit Gene Ontology (GO) annotation database or Uniprot database verify wether the label is correct?\n",
    "\n",
    "#### The UniProt ID for the enzyme sequence is ________________\n",
    "#### The Compound name for the SMILES is ________________\n",
    "#### The website link which documents the enzyme can catalyze the substrate is ________________"
   ]
  },
  {
   "cell_type": "code",
   "execution_count": 14,
   "id": "0abf79fd",
   "metadata": {
    "ExecuteTime": {
     "end_time": "2024-11-12T06:38:39.649236500Z",
     "start_time": "2024-11-12T06:38:39.613047600Z"
    }
   },
   "outputs": [
    {
     "name": "stdout",
     "output_type": "stream",
     "text": [
      "Verified data Uniprot ID                                                     Q9SAH9\n",
      "molecule ID                                               CHEBI:58349\n",
      "output                                                              1\n",
      "Protein sequence    MLVDGKLVCVTGAGGYIASWIVKLLLERGYTVRGTVRNPTDPKNNH...\n",
      "SMILES              N=C([O-])c1ccc[n+]([C@@H]2O[C@H](COP(=O)(O)OP(...\n",
      "Name: 1, dtype: object\n"
     ]
    }
   ],
   "source": [
    "# Print one entry of the loaded data\n",
    "data_index = 1 # Choose one entry\n",
    "print('Verified data', df.loc[data_index])"
   ]
  },
  {
   "cell_type": "markdown",
   "id": "773525d645c47c99",
   "metadata": {
    "collapsed": false
   },
   "source": [
    "### Then in order to do the enzyme-substrate pair prediction, we need concatenate feature for substrate and enzyme sequence for each entry: \n",
    "Use np.concatenate to concatenate the ESM-1b embeddings and SMILES features along the first dimension (i.e., the feature dimension) to generate the complete enzyme-substrate feature matrix."
   ]
  },
  {
   "cell_type": "code",
   "execution_count": 15,
   "id": "46a24b3c148e9ea3",
   "metadata": {
    "ExecuteTime": {
     "end_time": "2024-11-12T02:42:57.944389500Z",
     "start_time": "2024-11-12T02:42:56.903834400Z"
    },
    "collapsed": false
   },
   "outputs": [
    {
     "name": "stdout",
     "output_type": "stream",
     "text": [
      "Protein embedding dimension of the first data in the training set: (1280,)\n",
      "SMILES embedding dimension of the first data in the training set: (600,)\n",
      "Combined embedding dimension of the first data in the training set: (1880,)\n"
     ]
    }
   ],
   "source": [
    "############# ESM2+ChemBERTa\n",
    "# Concatenate ESM-1b embeddings and SMILES features for each dataset\n",
    "train_X_all = np.concatenate([train_esm2, train_smiles], axis=1)\n",
    "test_X_all = np.concatenate([test_esm2, test_smiles], axis=1)\n",
    "val_X_all = np.concatenate([val_esm2, val_smiles], axis=1)\n",
    "\n",
    "# Convert concatenated features and labels to DMatrix format for XGBoost\n",
    "dtrain = xgb.DMatrix(np.array(train_X_all), label=np.array(train_labels).astype(float))\n",
    "dtest = xgb.DMatrix(np.array(test_X_all), label=np.array(test_labels).astype(float))\n",
    "dvalid = xgb.DMatrix(np.array(val_X_all), label=np.array(val_labels).astype(float))\n",
    "\n",
    "print('Protein embedding dimension of the first data in the training set:', train_esm2[0].shape)\n",
    "print('SMILES embedding dimension of the first data in the training set:', train_smiles[0].shape)\n",
    "print('Combined embedding dimension of the first data in the training set:',train_X_all[0].shape)"
   ]
  },
  {
   "cell_type": "markdown",
   "id": "68fdcfb328993b01",
   "metadata": {
    "collapsed": false
   },
   "source": [
    "## 2.2 XGBoost\n",
    "- Then the contacted embedding is fed into a machine learning model. Here we use XGBoost.\n",
    "- XGBoost, short for eXtreme Gradient Boosting, is an optimized distributed gradient boosting library designed to be highly efficient, flexible, and portable. It implements machine learning algorithms under the Gradient Boosting framework. XGBoost provides a parallel tree boosting (also known as GBDT, GBM).\n",
    "- XGBoost is a powerful machine learning algorithm that excels in handling feature processing for classification tasks. It uses gradient boosting to iteratively add decision trees, each correcting the errors of the previous ones."
   ]
  },
  {
   "cell_type": "code",
   "execution_count": 16,
   "id": "51873eaf8a1a2a89",
   "metadata": {
    "ExecuteTime": {
     "end_time": "2024-11-11T01:39:18.251776Z",
     "start_time": "2024-11-11T01:39:18.240684100Z"
    },
    "collapsed": false
   },
   "outputs": [],
   "source": [
    "from sklearn.metrics import roc_auc_score, matthews_corrcoef, roc_curve\n",
    "import matplotlib.pyplot as plt\n",
    "import numpy as np\n",
    "\n",
    "def get_performance_metrics(pred, true):\n",
    "    \"\"\"\n",
    "    Calculate performance metrics including accuracy, ROC AUC score, and Matthews correlation coefficient.\n",
    "    \n",
    "    Parameters:\n",
    "    pred (array-like): Predicted probabilities or scores.\n",
    "    true (array-like): True binary labels.\n",
    "    \n",
    "    Returns:\n",
    "    tuple: Tuple containing accuracy, ROC AUC score, and Matthews correlation coefficient.\n",
    "    \"\"\"\n",
    "    # Calculate accuracy\n",
    "    acc = np.mean(np.round(pred) == np.array(true))\n",
    "    # Calculate ROC AUC score\n",
    "    roc_auc = roc_auc_score(np.array(true), pred)\n",
    "    # Calculate Matthews correlation coefficient\n",
    "    mcc = matthews_corrcoef(np.array(true), np.round(pred))\n",
    "    return acc, roc_auc, mcc\n",
    "\n",
    "def plot_performance_metrics(acc, roc_auc, mcc):\n",
    "    \"\"\"\n",
    "    Plot a bar chart to display the performance metrics.\n",
    "    \n",
    "    Parameters:\n",
    "    acc (float): Accuracy.\n",
    "    roc_auc (float): ROC AUC score.\n",
    "    mcc (float): Matthews correlation coefficient.\n",
    "    \"\"\"\n",
    "    # Performance metrics\n",
    "    metrics = ['Accuracy', 'ROC AUC', 'MCC']\n",
    "    values = [acc, roc_auc, mcc]\n",
    "    \n",
    "    # Create a bar chart\n",
    "    plt.figure(figsize=(5, 3))\n",
    "    plt.bar(metrics, values, color=['#1f77b4', '#8c564b', '#e377c2'])\n",
    "    \n",
    "    # Set labels and title\n",
    "    plt.xlabel('Performance Metrics')\n",
    "    plt.ylabel('Value')\n",
    "    \n",
    "    # Show the plot\n",
    "    plt.show()\n",
    "\n",
    "def plot_roc_curve(test_labels, y_test_pred):\n",
    "    \"\"\"\n",
    "    Draw the ROC curve for the given true labels and predicted probabilities.\n",
    "    \n",
    "    Parameters:\n",
    "    test_labels (array-like): True binary labels.\n",
    "    y_test_pred (array-like): Predicted probabilities.\n",
    "    \"\"\"\n",
    "    # Compute the false positive rate, true positive rate, and thresholds\n",
    "    fpr, tpr, _ = roc_curve(np.array(test_labels), y_test_pred)\n",
    "    \n",
    "    # Plot the ROC curve\n",
    "    plt.figure(figsize=(4, 3))\n",
    "    plt.plot(fpr, tpr, color='red', lw=2, label=f'ROC curve (AUC = {roc_auc:.2f})')\n",
    "    # Plot the random guess ROC curve (diagonal line)\n",
    "    plt.plot([0, 1], [0, 1], color='gray', lw=1, linestyle='--')\n",
    "    \n",
    "    # Set plot limits\n",
    "    plt.xlim([0.0, 1.0])\n",
    "    plt.ylim([0.0, 1.05])\n",
    "    \n",
    "    # Set labels and title\n",
    "    plt.xlabel('False Positive Rate')\n",
    "    plt.ylabel('True Positive Rate')\n",
    "    plt.title('Receiver Operating Characteristic')\n",
    "    \n",
    "    # Add legend\n",
    "    plt.legend(loc=\"lower right\")\n",
    "    \n",
    "    # Show the plot\n",
    "    plt.show()"
   ]
  },
  {
   "cell_type": "code",
   "execution_count": 17,
   "id": "652564482a603d04",
   "metadata": {
    "ExecuteTime": {
     "end_time": "2024-11-11T01:38:59.479368100Z",
     "start_time": "2024-11-11T01:38:59.469368100Z"
    },
    "collapsed": false
   },
   "outputs": [],
   "source": [
    "# Parameters of XGBoost\n",
    "params = {\n",
    "    'objective': 'binary:logistic',  # Binary classification task\n",
    "    'eval_metric': 'logloss',        # Evaluation metric\n",
    "    'eta': 0.1,                      # Learning rate\n",
    "    'max_depth': 6,                  # Maximum depth of the tree\n",
    "    'subsample': 0.8,                # Subsample ratio of the training instances\n",
    "    'colsample_bytree': 0.8,         # Subsample ratio of columns when constructing each tree\n",
    "    'seed': 42                       # Random seed\n",
    "}"
   ]
  },
  {
   "cell_type": "code",
   "execution_count": 18,
   "id": "6ef1eb402fc3fc5c",
   "metadata": {
    "ExecuteTime": {
     "end_time": "2024-11-11T01:39:18.234683Z",
     "start_time": "2024-11-11T01:39:00.513926Z"
    },
    "collapsed": false
   },
   "outputs": [
    {
     "name": "stdout",
     "output_type": "stream",
     "text": [
      "Starts to Train!\n",
      "End\n"
     ]
    }
   ],
   "source": [
    "# Define the number of rounds for training\n",
    "num_rounds = 20  # Number of boosting rounds\n",
    "\n",
    "# Train the XGBoost model.\n",
    "print('Starts to Train!')\n",
    "model = xgb.train(params, dtrain, num_rounds)\n",
    "print('End')\n",
    "\n",
    "\n",
    "# Make predictions on the test set \n",
    "y_test_pred = model.predict(dtest)\n",
    "\n",
    "# Make predictions on the validation set\n",
    "y_val_pred_all = model.predict(dvalid)"
   ]
  },
  {
   "cell_type": "code",
   "execution_count": 19,
   "id": "1a673781cee537bf",
   "metadata": {
    "ExecuteTime": {
     "end_time": "2024-11-11T01:39:18.482045700Z",
     "start_time": "2024-11-11T01:39:18.243776700Z"
    },
    "collapsed": false
   },
   "outputs": [
    {
     "name": "stdout",
     "output_type": "stream",
     "text": [
      "Accuracy on test set: 0.7678\n",
      "ROC AUC Score on test set: 0.7524\n",
      "Matthews Correlation Coefficient on test set: 0.2958\n"
     ]
    },
    {
     "data": {
      "image/png": "[encoded data removed]",
      "text/plain": [
       "<Figure size 500x300 with 1 Axes>"
      ]
     },
     "metadata": {},
     "output_type": "display_data"
    },
    {
     "data": {
      "image/png": "[encoded data removed]",
      "text/plain": [
       "<Figure size 400x300 with 1 Axes>"
      ]
     },
     "metadata": {},
     "output_type": "display_data"
    }
   ],
   "source": [
    "# Calculate performance metrics using the predicted labels and true labels\n",
    "acc, roc_auc, mcc = get_performance_metrics(y_test_pred, test_labels)\n",
    "\n",
    "# Print the calculated performance metrics\n",
    "print(f\"Accuracy on test set: {acc:.4f}\")\n",
    "print(f\"ROC AUC Score on test set: {roc_auc:.4f}\")\n",
    "print(f\"Matthews Correlation Coefficient on test set: {mcc:.4f}\")\n",
    "\n",
    "# Plot the performance metrics\n",
    "plot_performance_metrics(acc, roc_auc, mcc)\n",
    "\n",
    "# Plot the ROC curve\n",
    "plot_roc_curve(test_labels, y_test_pred)"
   ]
  },
  {
   "cell_type": "markdown",
   "id": "9b9ef292",
   "metadata": {},
   "source": [
    "### Question 4 Please increase num_rounds, what will happen?\n",
    "\n",
    "\n",
    "______________________________________________________________"
   ]
  },
  {
   "cell_type": "markdown",
   "id": "33a6b25b8c366ce2",
   "metadata": {
    "collapsed": false
   },
   "source": [
    "## 3 Machine Learning Parameter Optimization\n",
    "\n",
    "Parameter optimization is a crucial step in the machine learning pipeline. It involves tuning the hyperparameters of a model to achieve the best possible performance on a given task. Hyperparameters are settings that are not learned from the data but are set by the user before training begins. Effective parameter optimization can significantly improve the model's accuracy and generalization capabilities. Common techniques for parameter optimization include:\n",
    "- **Grid Search**: This method involves defining a grid of hyperparameter values and exhaustively searching through all possible combinations. While simple, it can be computationally expensive, especially with a large number of hyperparameters.\n",
    "- **Random Search**: Instead of searching through all combinations, random search randomly samples hyperparameter values from predefined distributions. This approach is often more efficient than grid search, especially when some hyperparameters have a larger impact on performance.\n",
    "- **Bayesian Optimization**: This technique uses probabilistic models to predict which hyperparameters are likely to yield the best performance. It iteratively selects the next set of hyperparameters to evaluate based on the results of previous evaluations, making it more efficient than grid and random search.\n",
    "- **Gradient-Based Optimization**: For differentiable models, gradient-based methods like gradient descent can be used to optimize hyperparameters directly. This is particularly effective for neural networks."
   ]
  },
  {
   "cell_type": "code",
   "execution_count": 20,
   "id": "40b9abe6cb79fa34",
   "metadata": {
    "ExecuteTime": {
     "end_time": "2024-11-11T01:39:18.489044600Z",
     "start_time": "2024-11-11T01:39:18.485045300Z"
    },
    "collapsed": false
   },
   "outputs": [],
   "source": [
    "from hyperopt import fmin, tpe, hp, Trials, rand\n",
    "\n",
    "# Define an array of possible values for the max_depth parameter.\n",
    "depth_array = [6, 7, 8, 9, 10, 11, 12, 13, 14]\n",
    "\n",
    "# Define the search space for the Gradient Boosting model parameters.\n",
    "space_gradient_boosting = {\"learning_rate\": hp.uniform(\"learning_rate\", 0.01, 0.5),  # Learning rate for reducing the contribution of each tree.\n",
    "                           \"max_depth\": hp.choice(\"max_depth\", depth_array), # Maximum depth of the tree\n",
    "                           \"reg_lambda\": hp.uniform(\"reg_lambda\", 0, 5),  # L2 regularization term on weights.\n",
    "                           \"reg_alpha\": hp.uniform(\"reg_alpha\", 0, 5),  # L1 regularization term on weights.\n",
    "                           \"max_delta_step\": hp.uniform(\"max_delta_step\", 0, 5), # Maximum delta step we allow each tree's weight estimation to be.\n",
    "                           \"min_child_weight\": hp.uniform(\"min_child_weight\", 0.1, 15), # Minimum sum of instance weight (hessian) needed in a child.\n",
    "                           \"num_rounds\": hp.uniform(\"num_rounds\", 30, 100), # Number of boosting rounds\n",
    "                           \"weight\": hp.uniform(\"weight\", 0.01, 0.99)} # Class weight for the negative class\n",
    "\n",
    "# Function to calculate the performance using Matthews correlation coefficient (MCC).\n",
    "def get_performance(pred, true):\n",
    "    MCC = matthews_corrcoef(true, np.round(pred))  # Calculate MCC between predicted and true labels.\n",
    "    return (-MCC)  # Return the negative MCC since Hyperopt minimizes the objective function.\n"
   ]
  },
  {
   "cell_type": "code",
   "execution_count": 21,
   "id": "fcacaa022fc40c89",
   "metadata": {
    "ExecuteTime": {
     "end_time": "2024-11-11T01:43:17.854685200Z",
     "start_time": "2024-11-11T01:42:45.027294100Z"
    },
    "collapsed": false
   },
   "outputs": [
    {
     "name": "stdout",
     "output_type": "stream",
     "text": [
      "100%|██████████| 20/20 [00:32<00:00,  1.62s/trial, best loss: -0.741607599894083]\n",
      "Best parameters found: {'learning_rate': np.float64(0.17987428338707856), 'max_delta_step': np.float64(1.0191536905587912), 'max_depth': np.int64(5), 'min_child_weight': np.float64(11.945323163334018), 'num_rounds': np.float64(96.38045536562724), 'reg_alpha': np.float64(2.3573777758565817), 'reg_lambda': np.float64(1.443808858619241), 'weight': np.float64(0.4588433164732094)}\n"
     ]
    }
   ],
   "source": [
    "def set_param_values(param):\n",
    "    \"\"\"\n",
    "    Set specific parameter values for XGBoost and handle class weights.\n",
    "    \n",
    "    Parameters:\n",
    "    param (dict): Dictionary of parameters for XGBoost.\n",
    "    \n",
    "    Returns:\n",
    "    tuple: Updated parameter dictionary and number of boosting rounds.\n",
    "    \"\"\"\n",
    "    num_round = int(param[\"num_rounds\"])\n",
    "    param[\"tree_method\"] = \"hist\"  # Use histogram-based algorithm\n",
    "    param[\"device\"] = \"cuda\"  # Use GPU for training\n",
    "    param[\"sampling_method\"] = \"gradient_based\"  # Sampling method for histogram bins\n",
    "    param['objective'] = 'binary:logistic'  # Binary classification objective\n",
    "    param['seed'] = 42  # Random seed for reproducibility\n",
    "    \n",
    "    # Set class weights for the training data\n",
    "    weights = np.array([param[\"weight\"] if y == 0 else 1.0 for y in dtrain.get_label()])\n",
    "    dtrain.set_weight(weights)\n",
    "    \n",
    "    # Remove the 'num_rounds' and 'weight' keys from the parameter dictionary\n",
    "    del param[\"num_rounds\"]\n",
    "    del param[\"weight\"]\n",
    "    \n",
    "    return (param, num_round)\n",
    "    \n",
    "def train_xgboost_model_all(param):\n",
    "    \"\"\"\n",
    "    Train an XGBoost model with the given parameters and evaluate its performance.\n",
    "    \n",
    "    Parameters:\n",
    "    param (dict): Dictionary of parameters for XGBoost.\n",
    "    \n",
    "    Returns:\n",
    "    float: Negative ROC AUC score (to minimize in hyperparameter optimization).\n",
    "    \"\"\"\n",
    "    param, num_round = set_param_values(param)\n",
    "    # Training:\n",
    "    bst = xgb.train(param, dtrain, num_round)\n",
    "    return (get_performance(pred=bst.predict(dvalid), true=val_labels))\n",
    "\n",
    "# Initialize the Trials object to track the optimization process\n",
    "trials = Trials()\n",
    "\n",
    "# Perform hyperparameter optimization using random search\n",
    "best = fmin(fn=train_xgboost_model_all, space=space_gradient_boosting,\n",
    "                algo=rand.suggest, max_evals=20, trials=trials)\n",
    "\n",
    "print(\"Best parameters found:\", best)"
   ]
  },
  {
   "cell_type": "code",
   "execution_count": 22,
   "id": "bd0e1aa1da3f9e80",
   "metadata": {
    "ExecuteTime": {
     "end_time": "2024-11-11T01:43:19.687940100Z",
     "start_time": "2024-11-11T01:43:17.875968500Z"
    },
    "collapsed": false
   },
   "outputs": [
    {
     "name": "stdout",
     "output_type": "stream",
     "text": [
      "Accuracy on test set: 0.8226\n",
      "ROC AUC Score on test set: 0.8442\n",
      "Matthews Correlation Coefficient on test set: 0.5191\n"
     ]
    },
    {
     "data": {
      "image/png": "[encoded data removed]",
      "text/plain": [
       "<Figure size 500x300 with 1 Axes>"
      ]
     },
     "metadata": {},
     "output_type": "display_data"
    },
    {
     "data": {
      "image/png": "[encoded data removed]",
      "text/plain": [
       "<Figure size 400x300 with 1 Axes>"
      ]
     },
     "metadata": {},
     "output_type": "display_data"
    }
   ],
   "source": [
    "# Set the best parameters found by hyperparameter optimization\n",
    "param, num_round = set_param_values(best)\n",
    "\n",
    "# Train the XGBoost model with the best parameters\n",
    "model = xgb.train(param, dtrain, num_round)\n",
    "\n",
    "# Make predictions on the test set\n",
    "y_test_pred = model.predict(dtest)\n",
    "\n",
    "# Calculate performance metrics for the test set\n",
    "acc, roc_auc, mcc = get_performance_metrics(y_test_pred, test_labels)\n",
    "\n",
    "# Print the performance metrics\n",
    "print(f\"Accuracy on test set: {acc:.4f}\")\n",
    "print(f\"ROC AUC Score on test set: {roc_auc:.4f}\")\n",
    "print(f\"Matthews Correlation Coefficient on test set: {mcc:.4f}\")\n",
    "\n",
    "# Plot the performance metrics\n",
    "plot_performance_metrics(acc, roc_auc, mcc)\n",
    "\n",
    "# Draw the ROC curve for the test set\n",
    "plot_roc_curve(test_labels, y_test_pred)"
   ]
  },
  {
   "cell_type": "markdown",
   "id": "90013f23c300e2ea",
   "metadata": {
    "collapsed": false
   },
   "source": [
    "#### **Question 5** Can you optimize hyperparameters using a grid search optimization strategy?\n",
    "\n",
    "\n",
    "-\n",
    "___________________________________________________________________________________"
   ]
  },
  {
   "cell_type": "markdown",
   "id": "5ddb03545963cda1",
   "metadata": {
    "collapsed": false
   },
   "source": [
    "## 4. Integrated Machine Learning Models\n",
    "### 4.1 Extract combining feature using deep learning model\n",
    "In addition to directly concatenating protein sequence features with substrate features, deep learning models can be used to combine these features more effectively. Neural networks can learn complex interactions between the features, improving model performance. Common approaches include:\n",
    "- **Concatenated Input Layers**: Feeding protein and substrate features into separate input layers and concatenating them later.\n",
    "- **Attention Mechanisms**: Using attention to dynamically weigh the importance of different features.\n",
    "- **Multi-Modal Fusion**: Integrating information from both features in a sophisticated manner to capture cross-modal interactions.\n",
    "- **Example**:\n",
    "    - Combining protein and substrate feature using deep learning model from Prosmith (cls)."
   ]
  },
  {
   "cell_type": "code",
   "execution_count": 23,
   "id": "f95b98245885c6a7",
   "metadata": {
    "ExecuteTime": {
     "end_time": "2024-11-11T01:58:13.043095400Z",
     "start_time": "2024-11-11T01:58:12.113602Z"
    },
    "collapsed": false
   },
   "outputs": [
    {
     "data": {
      "text/plain": [
       "MM_TN(\n",
       "  (s_pooler): BertSmilesPooler(\n",
       "    (dense): Linear(in_features=600, out_features=768, bias=True)\n",
       "    (activation): ReLU()\n",
       "  )\n",
       "  (p_pooler): BertProteinPooler(\n",
       "    (dense): Linear(in_features=1280, out_features=768, bias=True)\n",
       "    (activation): ReLU()\n",
       "  )\n",
       "  (main_bert): Bert(\n",
       "    (transformer_layers): ModuleList(\n",
       "      (0-5): 6 x TransformerEncoderLayer(\n",
       "        (self_attn): MultiheadAttention(\n",
       "          (out_proj): NonDynamicallyQuantizableLinear(in_features=768, out_features=768, bias=True)\n",
       "        )\n",
       "        (linear1): Linear(in_features=768, out_features=3072, bias=True)\n",
       "        (dropout): Dropout(p=0.1, inplace=False)\n",
       "        (linear2): Linear(in_features=3072, out_features=768, bias=True)\n",
       "        (norm1): LayerNorm((768,), eps=1e-05, elementwise_affine=True)\n",
       "        (norm2): LayerNorm((768,), eps=1e-05, elementwise_affine=True)\n",
       "        (dropout1): Dropout(p=0.1, inplace=False)\n",
       "        (dropout2): Dropout(p=0.1, inplace=False)\n",
       "      )\n",
       "    )\n",
       "    (hidden_layer): Linear(in_features=768, out_features=32, bias=True)\n",
       "    (output_layer): Linear(in_features=32, out_features=1, bias=True)\n",
       "    (sigmoid_layer): Sigmoid()\n",
       "    (ReLU): ReLU()\n",
       "  )\n",
       ")"
      ]
     },
     "execution_count": 23,
     "metadata": {},
     "output_type": "execute_result"
    }
   ],
   "source": [
    "from modules import MM_TN, MM_TNConfig\n",
    "import os\n",
    "\n",
    "# Define the configuration for the MM_TN model\n",
    "config = MM_TNConfig.from_dict({\n",
    "    \"s_hidden_size\": 600,       # Hidden size for substrate features\n",
    "    \"p_hidden_size\": 1280,      # Hidden size for protein sequence features\n",
    "    \"hidden_size\": 768,         # Combined hidden size\n",
    "    \"max_seq_len\": 1276,        # Maximum sequence length\n",
    "    \"num_hidden_layers\": 6,     # Number of hidden layers\n",
    "    \"binary_task\": True         # Whether the task is binary classification\n",
    "})\n",
    "\n",
    "# Initialize the MM_TN model with the specified configuration\n",
    "model = MM_TN(config)\n",
    "\n",
    "# Set the device to GPU if available\n",
    "device = torch.device(\"cuda\")\n",
    "model = model.to(device)  # Move the model to the GPU\n",
    "\n",
    "# Path to the pretrained model weights\n",
    "pretain_path = '/data/home/jiahao/class2/pretraining_IC50_6gpus_bs144_1.5e-05_layers6.txt.pkl'\n",
    "\n",
    "# Check if the pretrained model weights file exists\n",
    "if os.path.exists(pretain_path):\n",
    "    # Load the pretrained model weights\n",
    "    state_dict = torch.load(pretain_path)\n",
    "    \n",
    "    # Get the current state dictionary of the model\n",
    "    new_model_state_dict = model.state_dict()\n",
    "    \n",
    "    # Copy the pretrained weights to the current model\n",
    "    for key in new_model_state_dict.keys():\n",
    "        if key in state_dict.keys():\n",
    "            try:\n",
    "                new_model_state_dict[key].copy_(state_dict[key])\n",
    "                # logging.info(\"Updated key: %s\" % key)\n",
    "            except:\n",
    "                pass  # Ignore any keys that cannot be copied\n",
    "    \n",
    "    # Load the updated state dictionary back into the model\n",
    "    model.load_state_dict(new_model_state_dict)\n",
    "\n",
    "# Set the model to evaluation mode\n",
    "model.eval()"
   ]
  },
  {
   "cell_type": "markdown",
   "id": "3567ef73bc2e35a5",
   "metadata": {
    "collapsed": false
   },
   "source": [
    "The deep learning model uses the enzyme features and substrate features obtained from the feature extraction code above to extract the combined features."
   ]
  },
  {
   "cell_type": "code",
   "execution_count": 24,
   "id": "f4fd12c2569a81f9",
   "metadata": {
    "ExecuteTime": {
     "end_time": "2024-11-11T01:58:14.210002300Z",
     "start_time": "2024-11-11T01:58:14.157490200Z"
    },
    "collapsed": false
   },
   "outputs": [
    {
     "name": "stdout",
     "output_type": "stream",
     "text": [
      "The shape of protein embedding is: torch.Size([1, 1024, 1280])\n",
      "The padding protein embedding is: tensor([[[ 0.0758,  0.0112,  0.0675,  ..., -0.2298,  0.1255, -0.0867],\n",
      "         [-0.0311,  0.0249,  0.0155,  ...,  0.0558, -0.0818,  0.0376],\n",
      "         [ 0.0782,  0.0190,  0.0347,  ...,  0.2752, -0.1195,  0.0635],\n",
      "         ...,\n",
      "         [ 0.0000,  0.0000,  0.0000,  ...,  0.0000,  0.0000,  0.0000],\n",
      "         [ 0.0000,  0.0000,  0.0000,  ...,  0.0000,  0.0000,  0.0000],\n",
      "         [ 0.0000,  0.0000,  0.0000,  ...,  0.0000,  0.0000,  0.0000]]],\n",
      "       device='cuda:0')\n",
      "The shape of substrate embedding is torch.Size([1, 256, 600])\n",
      "The padding substrate embedding is: tensor([[[ 0.0048,  0.0000,  0.3266,  ...,  0.3541,  0.8186,  0.3482],\n",
      "         [ 1.5164,  0.0000, -0.0092,  ...,  0.1795,  0.5670,  0.2165],\n",
      "         [ 1.5115,  0.0000, -0.0049,  ...,  0.1796,  0.5666,  0.2165],\n",
      "         ...,\n",
      "         [ 0.0000,  0.0000,  0.0000,  ...,  0.0000,  0.0000,  0.0000],\n",
      "         [ 0.0000,  0.0000,  0.0000,  ...,  0.0000,  0.0000,  0.0000],\n",
      "         [ 0.0000,  0.0000,  0.0000,  ...,  0.0000,  0.0000,  0.0000]]])\n"
     ]
    }
   ],
   "source": [
    "# Extract the first 256 elements from the last layer representation of the SMILES embedding\n",
    "smiles_emb = last_layer_repr[:256]  # Shape: torch.Size([600])\n",
    "\n",
    "# Extract the first 1024 elements from the ESM protein embedding\n",
    "protein_emb = protein_emb_esm[:1024]  # Shape: torch.Size([1024])\n",
    "\n",
    "# Create an attention mask for the SMILES embedding\n",
    "smiles_attn_mask = torch.zeros(256)  # Initialize a tensor of zeros with shape (256,)\n",
    "smiles_attn_mask[:smiles_emb.shape[0]] = 1  # Set the first `smiles_emb.shape[0]` elements to 1\n",
    "\n",
    "# Create an attention mask for the protein embedding\n",
    "protein_attn_mask = torch.zeros(1024)  # Initialize a tensor of zeros with shape (1024,)\n",
    "protein_attn_mask[:protein_emb.shape[0]] = 1  # Set the first `protein_emb.shape[0]` elements to 1\n",
    "\n",
    "# Define padding for the SMILES embedding to ensure it has a fixed size of (256, 256)\n",
    "smiles_padding = (0, 0, 0, 256 - smiles_emb.shape[1])\n",
    "\n",
    "# Define padding for the protein embedding to ensure it has a fixed size of (1024, 1024)\n",
    "prot_padding = (0, 0, 0, 1024 - protein_emb.shape[1])\n",
    "\n",
    "# Apply padding to the SMILES embedding\n",
    "smiles_emb = torch.nn.functional.pad(smiles_emb, smiles_padding, mode='constant', value=0)\n",
    "\n",
    "# Apply padding to the protein embedding\n",
    "protein_emb = torch.nn.functional.pad(protein_emb, prot_padding, mode='constant', value=0)\n",
    "print('The shape of protein embedding is:', protein_emb.shape)\n",
    "print('The padding protein embedding is:', protein_emb)\n",
    "print('The shape of substrate embedding is', smiles_emb.shape)\n",
    "print('The padding substrate embedding is:', smiles_emb)"
   ]
  },
  {
   "cell_type": "code",
   "execution_count": 25,
   "id": "4d08cac65b84b0a8",
   "metadata": {
    "ExecuteTime": {
     "end_time": "2024-11-11T01:58:22.292584600Z",
     "start_time": "2024-11-11T01:58:22.243063900Z"
    },
    "collapsed": false
   },
   "outputs": [],
   "source": [
    "# Move the embeddings and model to the specified device (GPU)\n",
    "smiles_emb = smiles_emb.to(device).detach()\n",
    "smiles_attn_mask = smiles_attn_mask.to(device).view(1,-1)\n",
    "protein_emb = protein_emb.to(device).detach()\n",
    "protein_attn_mask = protein_attn_mask.to(device).view(1,-1)\n",
    "model = model.to(device)"
   ]
  },
  {
   "cell_type": "code",
   "execution_count": 26,
   "id": "49428ea8056412c6",
   "metadata": {
    "ExecuteTime": {
     "end_time": "2024-11-11T01:59:01.586675500Z",
     "start_time": "2024-11-11T01:59:01.537111500Z"
    },
    "collapsed": false
   },
   "outputs": [
    {
     "name": "stdout",
     "output_type": "stream",
     "text": [
      "The representation of combining enzyme and substrate feature using deep learning model is: tensor([[ 2.9440e-01,  1.6698e-01,  1.2289e+00,  1.9069e+00, -5.9087e-01,\n",
      "          1.4725e+00, -5.2538e-01,  5.2604e-01,  1.4508e+00, -1.0444e+00,\n",
      "         -3.0570e-01,  3.6918e-01, -1.4852e+00,  2.7426e-01,  5.4781e-02,\n",
      "          1.8194e-01,  8.4170e-01, -1.3494e+00,  7.3188e-01,  1.5364e+00,\n",
      "          5.1108e-01,  5.2234e-01, -5.4743e-01,  1.9070e+00, -1.6604e+00,\n",
      "         -1.0360e+00,  7.1105e-01,  2.5750e-02,  5.7098e-01,  1.3308e+00,\n",
      "          1.9992e+00,  6.6393e-01, -8.5996e-02,  3.2547e-01, -1.0779e+00,\n",
      "         -7.1197e-01, -5.6888e-01, -2.5683e-02, -8.1777e-01,  1.3787e+00,\n",
      "          8.6857e-01,  9.3547e-01, -4.2221e-01,  9.5204e-01,  1.9720e+00,\n",
      "          1.0012e+00,  2.0261e+00, -1.5494e+00,  3.6438e-01,  8.7481e-01,\n",
      "         -7.4811e-01,  8.4955e-01,  7.4223e-01,  7.8291e-01,  5.5889e-01,\n",
      "         -1.3738e+00,  6.8287e-01, -2.3819e-01, -1.5147e+00, -1.1014e+00,\n",
      "         -4.5548e-01, -7.4497e-01,  9.1003e-01,  3.3762e-01, -8.4727e-01,\n",
      "          1.0166e-01,  1.3284e+00, -1.0777e+00, -1.5530e-01,  2.3092e-01,\n",
      "         -8.5093e-01,  8.5415e-02, -1.2024e+00, -1.3394e-01,  1.3470e+00,\n",
      "          1.5448e+00, -2.5554e-01,  1.3505e+00, -1.7119e+00, -4.0614e-02,\n",
      "          1.1115e+00,  4.8733e-01, -2.6906e-02, -5.5008e-01, -2.9238e-01,\n",
      "          8.4202e-01,  5.6298e-01,  3.5746e-01, -8.7716e-01,  2.6522e-02,\n",
      "         -1.4282e+00,  2.0842e+00, -6.3533e-01,  7.4572e-01,  9.3489e-01,\n",
      "         -3.8510e-01,  1.3644e-01,  1.9093e-01,  9.9725e-01, -1.1933e+00,\n",
      "          8.1802e-02, -9.0470e-01, -3.6389e-01, -1.4900e+00,  4.8184e-03,\n",
      "          7.8440e-01, -6.0119e-02,  1.1031e+00,  7.6047e-01,  1.0827e+00,\n",
      "          4.2052e-01, -3.6630e-02, -3.5255e-01, -4.5097e-01, -2.6491e-01,\n",
      "         -1.4333e+00,  5.6266e-01, -9.7726e-01,  1.7288e-01, -5.6429e-01,\n",
      "          2.2041e-02,  1.1599e-02, -2.6184e+00, -4.5549e-01, -5.3533e-01,\n",
      "         -1.3291e-02, -8.4950e-01,  8.2734e-01, -1.4594e+00, -1.8043e-02,\n",
      "         -2.5298e+00, -2.4299e-01,  2.1639e-01, -5.9177e-01,  1.3669e-01,\n",
      "         -3.9045e-01,  4.6655e-02,  2.2770e-01,  2.0810e+00,  1.2632e-02,\n",
      "          1.9466e+00, -1.8906e-01,  9.5798e-02, -1.1753e+00,  3.3298e-01,\n",
      "         -9.1821e-02, -2.2731e+00, -8.3162e-01, -8.2800e-01, -1.3920e+00,\n",
      "         -3.7326e-01, -1.1077e-01,  9.6849e-01,  2.0040e-01,  1.7622e+00,\n",
      "         -5.9667e-01, -2.1125e-01,  1.5697e+00, -2.2559e-01,  1.7847e+00,\n",
      "          3.5197e-01, -9.5638e-01,  9.7197e-01,  3.3376e-01,  1.4977e-01,\n",
      "         -1.5624e-01, -6.9006e-02,  7.1101e-01,  9.6580e-03,  1.6515e-01,\n",
      "          1.1974e-01,  1.1259e+00, -1.1034e+00,  1.5268e+00,  3.4423e-01,\n",
      "          4.2076e-01, -1.2733e-01, -1.0703e+00,  5.2419e-01,  1.0602e+00,\n",
      "          2.0005e+00,  8.5755e-01,  5.0600e-01, -1.1032e+00,  1.2212e+00,\n",
      "         -6.8686e-01, -1.1994e+00,  3.5209e-02, -1.0658e+00,  7.3139e-01,\n",
      "          1.3323e-01, -1.5136e+00,  1.2491e-01, -1.5129e+00, -2.7524e-01,\n",
      "          9.2410e-01, -1.9099e-01, -3.6744e-01, -1.1640e+00,  5.2871e-02,\n",
      "          1.1376e+00, -6.2705e-01,  2.3451e+00, -1.6123e+00,  1.3845e+00,\n",
      "         -8.6639e-01, -7.2442e-01, -1.1700e-02, -1.0562e+00,  4.6584e-01,\n",
      "         -1.4824e+00,  1.1964e+00, -2.2851e-01, -7.7112e-02, -7.5677e-01,\n",
      "          1.6869e+00,  2.5137e-01,  8.2863e-01,  1.1892e+00, -1.7521e+00,\n",
      "          6.6806e-01, -6.6179e-01,  1.0995e+00, -6.7389e-01,  5.3995e-01,\n",
      "          1.3995e+00,  1.1679e-01, -1.4170e-01,  2.4262e-01,  7.5258e-01,\n",
      "         -1.5549e+00, -6.1563e-01,  1.7355e+00, -1.2379e+00, -3.2063e-01,\n",
      "          5.3918e-01,  2.1910e-01, -1.0382e+00, -2.5274e+00,  1.7263e+00,\n",
      "          3.0747e-01,  1.3629e+00,  2.4107e-01, -1.1398e+00,  2.1829e+00,\n",
      "         -2.7673e-01,  8.8019e-01, -2.7584e-01,  3.3730e-01,  3.3224e-01,\n",
      "          4.5218e-01,  2.8262e-01, -2.0607e-01, -5.1721e-01,  1.1889e-01,\n",
      "         -4.1625e-01,  7.8599e-01,  1.8636e-01,  3.0976e-01, -2.4143e+00,\n",
      "          2.3614e+00,  1.2089e+00,  8.4304e-01, -1.0565e+00, -2.4810e-01,\n",
      "         -1.4509e-01, -1.0839e+00,  4.8456e-01,  2.0466e+00, -1.0406e+00,\n",
      "         -2.3028e+00, -3.1837e-01, -5.5524e-01,  7.5588e-02, -1.4058e+00,\n",
      "          1.3899e-01,  1.1471e-01, -1.4377e+00, -1.0788e-01, -4.0156e-01,\n",
      "          1.2845e-01,  4.3052e-01, -1.3128e-01, -2.3511e-01,  6.7373e-01,\n",
      "          5.6483e-01,  1.0750e+00, -4.9782e-01, -5.6461e-01, -1.8271e+00,\n",
      "          6.0693e-01, -1.1888e+00, -5.4600e-01, -3.7283e-01, -7.6821e-01,\n",
      "         -1.5331e-01,  1.3849e+00, -5.8875e-01, -7.7235e-01, -5.6673e-01,\n",
      "         -6.4347e-01, -3.0865e-01, -3.9097e-02,  3.9020e-01,  4.7468e-01,\n",
      "          2.9329e-01, -4.8686e-01,  5.2275e-02,  2.0841e+00, -5.0003e-02,\n",
      "          2.7324e-02,  2.6344e-01, -7.3896e-01, -4.0965e-02, -4.5745e-01,\n",
      "         -3.5054e-01, -2.5550e-01, -4.1316e-01,  1.3143e+00, -5.9542e-01,\n",
      "          3.8499e-01, -1.2572e+00, -3.0732e-01,  1.0963e+00,  1.2702e+00,\n",
      "         -5.0264e-01,  9.1113e-01, -3.8120e-01,  4.5122e-01,  5.9436e-01,\n",
      "         -3.2323e-01, -6.9125e-01, -1.0916e-01,  1.2139e+00, -1.9379e+00,\n",
      "          8.4576e-01,  7.8713e-01, -1.7181e-01,  1.2697e+00,  4.8941e-01,\n",
      "          1.5123e+00,  1.4877e+00, -8.2024e-02, -1.9674e+00, -5.4085e-01,\n",
      "          2.4073e-01, -4.5771e-01, -2.2576e-01, -1.4000e+00,  1.6476e+00,\n",
      "          7.9325e-01, -7.6114e-04, -2.2759e-01, -1.4503e+00, -1.7077e+00,\n",
      "          5.6277e-01, -1.0071e+00, -2.8716e-01, -8.0725e-01,  1.4321e+00,\n",
      "          1.3595e+00, -7.5622e-01, -2.5047e-01,  7.6573e-01, -5.7778e-02,\n",
      "          9.6269e-01, -4.2231e-03,  9.5717e-01,  3.0921e-01, -7.3515e-03,\n",
      "         -1.1215e+00,  1.4220e+00, -1.0022e+00,  5.3661e-01, -8.0548e-04,\n",
      "          8.1669e-01, -1.0747e-01, -1.1440e+00,  8.9450e-01, -2.5558e-01,\n",
      "         -2.1747e+00, -1.0806e-01,  8.5576e-01,  6.7906e-01,  7.1505e-01,\n",
      "          5.5806e-01,  7.0735e-01, -8.0353e-01, -8.4776e-01, -1.8188e+00,\n",
      "         -4.8317e-01, -1.1068e+00, -1.4558e+00, -1.1359e+00,  7.0687e-01,\n",
      "         -3.8923e-01, -1.6089e-01,  9.7990e-01, -1.8444e-01, -1.6269e-01,\n",
      "          2.5049e+00, -5.0725e-01,  1.4423e+00,  3.3412e-01,  9.5113e-01,\n",
      "          1.9203e-01,  2.2933e+00, -1.1882e-01,  2.0304e-01, -5.1912e-01,\n",
      "          1.7940e+00, -7.1768e-01, -1.4617e+00, -9.7567e-01,  7.5432e-01,\n",
      "          5.4365e-01, -1.4805e+00, -7.3441e-02,  1.8044e-01, -1.3543e+00,\n",
      "         -2.4357e+00,  2.0958e+00, -6.5835e-01, -5.5415e-01, -3.9556e-01,\n",
      "         -2.6539e-02,  9.0080e-01, -1.4583e+00, -1.0969e+00, -1.6483e-01,\n",
      "          2.3255e-01,  2.3086e+00, -1.1254e+00, -4.5260e-01, -1.4304e+00,\n",
      "          1.3928e+00,  1.9129e-01,  1.2554e+00, -7.1689e-01, -1.5471e-01,\n",
      "          3.7977e-01,  1.2577e-01, -3.2502e+00, -4.8843e-01,  9.5626e-01,\n",
      "          4.8384e-02, -2.6684e-01,  1.2311e+00,  4.3236e-01,  5.8466e-01,\n",
      "          6.5021e-01,  1.1599e+00, -1.1196e+00, -6.2501e-02, -1.3024e+00,\n",
      "          5.7107e-01,  1.1562e+00, -8.2916e-01, -1.6640e-01,  1.7050e+00,\n",
      "         -2.5279e-01, -7.2418e-02,  3.2161e-01,  9.5365e-01, -4.0089e-01,\n",
      "         -5.2893e-01, -2.9229e-01,  7.3441e-01, -1.8322e-01, -8.4144e-01,\n",
      "         -2.5393e-02, -3.5891e-01, -1.1015e-01,  5.2569e-02, -6.3235e-01,\n",
      "          1.1011e+00,  1.5472e-01, -1.7531e+00,  4.2014e-01,  9.4643e-02,\n",
      "          3.2402e-02,  2.9980e-02, -1.9405e-01,  2.3540e-01,  1.0517e-01,\n",
      "         -1.4754e+00, -1.0669e+00,  3.1004e-01,  8.1299e-01,  5.8271e-01,\n",
      "         -4.6703e-01, -2.5999e+00,  4.8986e-01,  2.2312e-01,  1.7541e+00,\n",
      "          1.7392e-01,  9.6274e-01, -1.1031e+00,  1.8731e+00, -5.3128e-01,\n",
      "         -1.1268e+00,  4.3657e-02,  5.4957e-02, -1.3515e+00, -1.2812e+00,\n",
      "         -1.1920e+00, -7.1607e-01, -1.0898e+00,  6.7080e-02,  1.1324e+00,\n",
      "          1.0154e+00,  1.0199e+00,  7.7212e-02,  1.9912e-01, -1.1241e+00,\n",
      "          1.2144e+00,  1.0791e+00,  9.8841e-01,  2.6560e-01,  7.5433e-01,\n",
      "         -1.5234e+00,  1.9443e+00,  1.6577e-01,  4.8521e-01,  1.9497e+00,\n",
      "          1.1014e+00, -1.6543e-01, -1.7976e+00, -3.6820e-01,  5.9363e-01,\n",
      "         -4.9372e-01, -8.0988e-01, -3.4847e-01,  1.1210e+00,  9.0752e-01,\n",
      "          1.6551e+00,  1.5980e-01,  8.4707e-01,  2.0115e+00, -1.2044e+00,\n",
      "         -8.3319e-01, -9.2550e-01,  3.6958e-01, -7.3214e-01,  1.2723e+00,\n",
      "          1.3719e+00, -2.6537e-01, -1.1446e+00, -3.5301e-01, -1.6739e+00,\n",
      "         -1.0575e+00,  5.3505e-01, -1.4894e+00, -5.0319e-01, -2.4696e+00,\n",
      "         -2.0491e-01, -1.3258e-01,  2.2921e+00, -1.2121e+00, -1.5796e-01,\n",
      "         -1.3778e+00,  1.5281e+00,  8.3016e-01,  4.2124e-01,  2.1216e-01,\n",
      "          1.6443e+00,  1.4999e+00, -1.7921e+00,  8.9211e-01, -4.4553e-01,\n",
      "          1.1909e+00, -8.2398e-02, -1.7082e+00,  9.5628e-01,  1.9595e+00,\n",
      "          3.0432e-01, -1.4287e+00, -6.1084e-02, -1.4714e+00, -2.3119e-01,\n",
      "          1.0218e+00,  4.7388e-01,  5.2730e-01,  1.9806e-01,  8.9202e-01,\n",
      "         -3.8982e-01, -4.0326e-01, -6.8530e-01, -1.4362e+00, -9.2846e-01,\n",
      "          5.0490e-01,  1.2848e+00, -1.4219e+00, -1.3845e-01,  3.9184e-02,\n",
      "         -1.8995e+00,  2.0468e+00,  2.4001e+00,  1.4238e+00, -8.8059e-01,\n",
      "          3.7159e-01, -6.2160e-01, -9.9490e-01, -9.2802e-01,  4.3154e-01,\n",
      "          6.1133e-01,  9.3170e-02,  1.3088e-01, -4.9814e-01, -1.2993e+00,\n",
      "          6.3755e-01, -8.8109e-01,  8.8253e-01,  4.5675e-01,  1.5166e-01,\n",
      "          8.6216e-03, -2.4934e+00,  2.1734e+00, -1.6070e+00, -5.2614e-01,\n",
      "         -3.9867e-01, -7.7748e-01, -5.9670e-01,  3.5082e-01,  9.5906e-02,\n",
      "          3.2936e-01, -1.8523e+00,  1.2220e+00,  3.9791e-01, -1.3223e+00,\n",
      "         -6.8111e-01, -2.0872e-01,  1.5292e-01,  1.9729e-01,  1.5839e+00,\n",
      "          1.3919e+00, -1.0449e+00,  1.7236e+00,  1.0124e+00,  3.7684e-02,\n",
      "          1.7233e+00, -5.4502e-01,  9.5146e-02,  1.2149e+00,  1.6041e+00,\n",
      "         -1.8156e+00,  2.2521e+00, -4.1032e-01, -5.0552e-01, -2.6118e-01,\n",
      "         -1.8837e+00, -4.3104e-01, -6.2554e-01, -1.8693e-01,  3.9660e-01,\n",
      "          3.8273e-01,  1.6242e-01, -4.3552e-02,  3.8830e-01, -1.0781e+00,\n",
      "         -1.1318e+00,  1.2355e+00,  7.3830e-01, -2.9367e-01, -1.5468e-02,\n",
      "         -1.8189e-01,  2.5395e-01,  6.0536e-01, -7.3143e-01, -7.8227e-02,\n",
      "         -8.2591e-01, -3.1436e-01,  1.6867e+00,  4.9035e-01, -1.0887e+00,\n",
      "         -1.0972e+00,  3.6738e-02,  5.8589e-01, -1.0284e+00,  2.4967e-01,\n",
      "          7.3791e-01,  3.4906e-02, -1.0791e+00, -4.8073e-01, -7.5436e-02,\n",
      "         -1.6083e+00, -1.8984e-01,  1.3490e-01, -8.8266e-01,  1.1968e+00,\n",
      "          1.5707e+00,  7.5332e-02, -3.7470e-01, -6.6938e-01, -1.2321e+00,\n",
      "         -3.4320e+00, -1.7321e+00,  6.6789e-01, -4.2033e-01,  1.5069e-02,\n",
      "          2.7597e-01, -1.8652e-01,  1.2127e+00, -8.4328e-01, -4.2949e-02,\n",
      "          1.8713e+00, -1.8323e-01, -6.8327e-01, -1.1522e+00,  3.6557e-01,\n",
      "         -4.5617e-01,  6.0247e-01, -1.0786e-01,  1.6130e-01, -2.0786e-01,\n",
      "          1.4294e-01,  1.2939e+00, -2.1210e+00, -8.9306e-02, -7.2735e-02,\n",
      "         -5.9097e-01,  1.7707e-01, -7.5700e-01,  3.3445e-01,  1.2927e+00,\n",
      "          1.9438e+00,  1.4026e-01,  6.3749e-01,  1.7246e+00, -1.0397e+00,\n",
      "          4.3191e-01, -1.4105e+00,  6.1509e-01, -1.4642e+00, -4.8824e-01,\n",
      "         -6.0095e-01,  7.8318e-01, -9.3395e-01, -2.1895e+00,  9.3077e-02,\n",
      "          1.6605e+00, -1.0840e+00, -9.6353e-01, -1.7196e+00, -7.7007e-01,\n",
      "         -1.1982e+00,  1.1357e+00,  4.4167e-01,  5.6794e-01,  1.3549e-01,\n",
      "         -7.3222e-01,  8.5589e-02, -1.0549e+00,  1.9412e+00, -1.4314e-01,\n",
      "          7.4238e-01, -1.1029e+00, -1.0658e-01,  1.6618e+00,  1.5238e+00,\n",
      "          1.3224e+00, -1.7032e+00,  4.7115e-01, -1.2708e+00, -1.0207e+00,\n",
      "         -2.9431e-01, -1.3476e+00, -3.8962e-01]], device='cuda:0',\n",
      "       grad_fn=<SliceBackward0>)\n",
      "The shape of combining feature is: torch.Size([1, 768])\n"
     ]
    }
   ],
   "source": [
    "# Using deep learning model to combine enzyme and substrate feature\n",
    "_, cls_repr = model(smiles_emb=smiles_emb,\n",
    "                                smiles_attn=smiles_attn_mask,\n",
    "                                protein_emb=protein_emb,\n",
    "                                protein_attn=protein_attn_mask,\n",
    "                                device=device,\n",
    "                                get_repr=True)\n",
    "\n",
    "print('The representation of combining enzyme and substrate feature using deep learning model is:', cls_repr)\n",
    "print('The shape of combining feature is:', cls_repr.size())"
   ]
  },
  {
   "cell_type": "markdown",
   "id": "49860ae8efadb062",
   "metadata": {
    "collapsed": false
   },
   "source": [
    "### 4.2 Training and integrated XGBoost\n",
    "- In addition to concatenating the substrate and enzyme features, we can also concatenate the enzyme, substrate, and the combined features extracted by a deep learning model. \n",
    "- Alternatively, we can directly use the extracted combined features to train a machine learning model. \n",
    "- By training three separate machine learning models—each using a different set of features (enzyme and substrate features, combined features, and all features concatenated)—we can then integrate the predictions from these models to make a more robust and accurate final prediction. This ensemble method combines the strengths of each individual model to improve overall performance."
   ]
  },
  {
   "cell_type": "code",
   "execution_count": 27,
   "id": "258d405f55fd6ebb",
   "metadata": {
    "ExecuteTime": {
     "end_time": "2024-11-11T02:26:58.675665300Z",
     "start_time": "2024-11-11T02:21:07.860353700Z"
    },
    "collapsed": false
   },
   "outputs": [],
   "source": [
    "# Load validation data\n",
    "val_cls, val_esm1b, val_smiles, val_labels = loaded_val['val_cls'], loaded_val['val_esm1b'], loaded_val['val_smiles'], loaded_val['val_labels']\n",
    "\n",
    "# Load test data\n",
    "test_cls, test_esm1b, test_smiles, test_labels, test_indices = loaded_test['test_cls'], loaded_test['test_esm1b'], loaded_test['test_smiles'], loaded_test['test_labels'], loaded_test['test_indices']\n",
    "\n",
    "# Load training data\n",
    "train_cls, train_esm1b, train_smiles, train_labels = loaded_train['train_cls'], loaded_train['train_esm1b'], loaded_train['train_smiles'], loaded_train['train_labels']\n",
    "\n",
    "############# cls token\n",
    "# Convert the training, validation, and test data for the cls token to DMatrix format for XGBoost\n",
    "dtrain_cls = xgb.DMatrix(np.array(train_cls), label=np.array(train_labels).astype(float))\n",
    "dvalid_cls = xgb.DMatrix(np.array(val_cls), label=np.array(val_labels).astype(float))\n",
    "dtest_cls = xgb.DMatrix(np.array(test_cls), label=np.array(test_labels).astype(float))\n",
    "\n",
    "# Train the XGBoost model using the cls token features\n",
    "model_cls = xgb.train(params, dtrain_cls, num_rounds)\n",
    "\n",
    "# Predict the validation set labels using the trained model\n",
    "y_val_pred_cls = model_cls.predict(dvalid_cls)\n",
    "\n",
    "############# ESM2+ChemBERTa +cls\n",
    "# Concatenate the ESM1b, ChemBERTa, and cls token features for training, validation, and test sets\n",
    "train_X_all_cls = np.concatenate([np.concatenate([train_esm1b, train_smiles], axis=1), train_cls], axis=1)\n",
    "test_X_all_cls = np.concatenate([np.concatenate([test_esm1b, test_smiles], axis=1), test_cls], axis=1)\n",
    "val_X_all_cls = np.concatenate([np.concatenate([val_esm1b, val_smiles], axis=1), val_cls], axis=1)\n",
    "\n",
    "# Convert the concatenated features to DMatrix format for XGBoost\n",
    "dtrain_all_cls = xgb.DMatrix(np.array(train_X_all_cls), label=np.array(train_labels).astype(float))\n",
    "dtest_all_cls = xgb.DMatrix(np.array(test_X_all_cls), label=np.array(test_labels).astype(float))\n",
    "dvalid_all_cls = xgb.DMatrix(np.array(val_X_all_cls), label=np.array(val_labels).astype(float))\n",
    "\n",
    "# Train the XGBoost model using the concatenated features\n",
    "model_all_cls = xgb.train(params, dtrain_all_cls, num_rounds)\n",
    "\n",
    "# Predict the validation set labels using the trained model\n",
    "y_val_pred_all_cls = model_all_cls.predict(dvalid_all_cls)"
   ]
  },
  {
   "cell_type": "code",
   "execution_count": 28,
   "id": "ece6f0a9f170eba3",
   "metadata": {
    "ExecuteTime": {
     "end_time": "2024-11-11T02:27:42.705798100Z",
     "start_time": "2024-11-11T02:26:58.674673100Z"
    },
    "collapsed": false
   },
   "outputs": [],
   "source": [
    "# Initialize the best Matthews Correlation Coefficient (MCC) and Mean Squared Error (MSE)\n",
    "best_mcc, best_mse = 0, 1000\n",
    "best_i, best_j, best_k = 0, 0, 0\n",
    "\n",
    "# Iterate over possible values of i and j (both ranging from 0 to 1 in steps of 0.01)\n",
    "for i in [k / 100 for k in range(0, 100)]:\n",
    "    for j in [k / 100 for k in range(0, 100)]:\n",
    "        # Ensure that the sum of i and j does not exceed 1\n",
    "        if i + j <= 1:\n",
    "            # Calculate the value of k such that i + j + k = 1\n",
    "            k = 1 - i - j\n",
    "            \n",
    "            # Compute the weighted prediction using the three sets of predictions\n",
    "            y_val_pred = i * y_val_pred_all_cls + j * y_val_pred_all + k * y_val_pred_cls\n",
    "            \n",
    "            # Calculate the Matthews Correlation Coefficient (MCC) for the current weighted prediction\n",
    "            mcc = matthews_corrcoef(val_labels, np.round(y_val_pred))\n",
    "            \n",
    "            # Update the best MCC and corresponding weights if the current MCC is better\n",
    "            if mcc > best_mcc:\n",
    "                best_mcc = mcc\n",
    "                best_i, best_j, best_k = i, j, k"
   ]
  },
  {
   "cell_type": "code",
   "execution_count": 29,
   "id": "90fff46f369132b8",
   "metadata": {
    "ExecuteTime": {
     "end_time": "2024-11-11T02:27:42.763051900Z",
     "start_time": "2024-11-11T02:27:42.762051300Z"
    },
    "collapsed": false
   },
   "outputs": [
    {
     "name": "stdout",
     "output_type": "stream",
     "text": [
      "Best i: 0.91, Best j: 0.03, Best k: 0.05999999999999997\n"
     ]
    }
   ],
   "source": [
    "print(f'Best i: {best_i}, Best j: {best_j}, Best k: {best_k}')"
   ]
  },
  {
   "cell_type": "markdown",
   "id": "a4417e10bbd1588f",
   "metadata": {
    "collapsed": false
   },
   "source": [
    "#### **Question 6** Can you indicate which type of feature had the least effect on the outcome and which had the most effect on the outcome based on the above?\n",
    "\n",
    "\n",
    "-\n",
    "___________________________________________________________________________________"
   ]
  },
  {
   "cell_type": "markdown",
   "id": "5c840ea811d59ad9",
   "metadata": {
    "collapsed": false
   },
   "source": [
    "#### **Question 7** Can you use the integration model to predict the outcome of the test set and give the accuracy, ROC curve and MCC on the test set?\n",
    "\n",
    "\n",
    "-\n",
    "___________________________________________________________________________________"
   ]
  },
  {
   "cell_type": "code",
   "execution_count": null,
   "id": "16755d4f6b31f3d9",
   "metadata": {
    "collapsed": false
   },
   "outputs": [],
   "source": []
  }
 ],
 "metadata": {
  "kernelspec": {
   "display_name": "pt12",
   "language": "python",
   "name": "python3"
  },
  "language_info": {
   "codemirror_mode": {
    "name": "ipython",
    "version": 3
   },
   "file_extension": ".py",
   "mimetype": "text/x-python",
   "name": "python",
   "nbconvert_exporter": "python",
   "pygments_lexer": "ipython3",
   "version": "3.12.7"
  }
 },
 "nbformat": 4,
 "nbformat_minor": 5
}
